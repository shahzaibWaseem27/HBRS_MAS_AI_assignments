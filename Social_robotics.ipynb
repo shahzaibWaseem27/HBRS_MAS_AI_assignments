{
 "cells": [
  {
   "cell_type": "markdown",
   "id": "b103c5ea",
   "metadata": {
    "deletable": false,
    "editable": false,
    "nbassignment": {
     "type": "header"
    },
    "nbgrader": {
     "cell_type": "markdown",
     "checksum": "770cce8a57eb7f845ae1e122435ff684",
     "grade": false,
     "grade_id": "HeaderA",
     "locked": true,
     "schema_version": 3,
     "solution": false,
     "task": false
    }
   },
   "source": [
    "# Artificial Intelligence for Robotics 01\n",
    "\n",
    "## General Information:\n",
    "Please do not add or delete any cells. Answers belong into the corresponding cells (below the question). If a function is given (either as a signature or a full function), you should not change the name, arguments or return value of the function.\n",
    "\n",
    "If you encounter empty cells underneath the answer that can not be edited, please ignore them, they are for testing purposes.\n",
    "\n",
    "When editing an assignment there can be the case that there are variables in the kernel. To make sure your assignment works, please restart the kernel and run all cells before submitting (e.g. via Kernel  to  Restart & Run All).\n",
    "\n",
    "Code cells where you are supposed to give your answer often include the line `raise NotImplementedError`. This makes it easier to automatically grade answers. If you edit the cell please outcomment or delete this line.\n",
    "\n",
    "## Submission:\n",
    "Please submit your notebook via the web interface (in the main view  to  Assignments  to  Submit). The assignments are **due on Monday at 20:00**.\n",
    "\n",
    "## Group Work:\n",
    "Please enter your UID (your username here) and those of your group partners into the next cell. We apply plagiarism checking, so do not submit others solutions! If an assignment has a copied solution, the task will be graded with 0 points for all people with the same solution.\n",
    "\n",
    "## Questions about the Assignment:\n",
    "If you have questions about the assignment please post them in the LEA forum before the deadline. Don't wait until the last day to post questions!"
   ]
  },
  {
   "cell_type": "markdown",
   "id": "269910cd",
   "metadata": {
    "deletable": false,
    "editable": false,
    "nbassignment": {
     "type": "header"
    },
    "nbgrader": {
     "cell_type": "markdown",
     "checksum": "93d376da99c86b4fabd2542101dc5ec7",
     "grade": false,
     "grade_id": "cell-4a94f4450f12f33c",
     "locked": true,
     "schema_version": 3,
     "solution": false,
     "task": false
    }
   },
   "source": [
    "### Please add the usernames of all your team members in the manner member1, member2 in next cell (example given below)\n",
    "\n",
    "member1 = 'example'\n",
    "\n",
    "member2 = 'example2'\n",
    "\n",
    "#### If you are not working in a group, then please add member2 as none2s"
   ]
  },
  {
   "cell_type": "code",
   "execution_count": 878,
   "id": "72243e7a",
   "metadata": {
    "ExecuteTime": {
     "end_time": "2025-05-04T17:36:00.355924Z",
     "start_time": "2025-05-04T17:36:00.343575Z"
    },
    "deletable": false,
    "nbassignment": {
     "type": "group_info"
    },
    "nbgrader": {
     "cell_type": "code",
     "checksum": "2ef735ca9199180a82193d39df17789b",
     "grade": false,
     "grade_id": "cell-a9c2f4587c671f98",
     "locked": false,
     "schema_version": 3,
     "solution": true,
     "task": false
    }
   },
   "outputs": [],
   "source": [
    "# YOUR CODE HERE\n",
    "member1 = 'aamrit2s'\n",
    "member2 = 'rbale2s'\n",
    "member3 = 'none2s'\n",
    "member4 = 'none2s'"
   ]
  },
  {
   "cell_type": "code",
   "execution_count": 879,
   "id": "58d35b9d",
   "metadata": {
    "ExecuteTime": {
     "end_time": "2025-05-04T17:36:00.573278Z",
     "start_time": "2025-05-04T17:36:00.359440Z"
    },
    "deletable": false,
    "editable": false,
    "nbassignment": {
     "type": "header"
    },
    "nbgrader": {
     "cell_type": "code",
     "checksum": "90856a52a0162f78566c398792f29a27",
     "grade": true,
     "grade_id": "cell-e27ced94e387fe18",
     "locked": true,
     "points": 0,
     "schema_version": 3,
     "solution": false,
     "task": false
    }
   },
   "outputs": [
    {
     "name": "stdout",
     "output_type": "stream",
     "text": [
      "All tests passed!\n"
     ]
    }
   ],
   "source": [
    "# Execute this cell to make sure you correctly filled in the usernames of the team members\n",
    "\n",
    "def group_name_test():\n",
    "    for member_id in [member1, member2]:\n",
    "        assert isinstance(member_id, str), \"Please give your member id as a string.\"\n",
    "        assert len(member_id) > 0, \"You need to fill in the member id for both members\"\n",
    "        assert member_id.endswith(\"2s\"), \"The member id should end with 2s (Your JupyterHub username)\"\n",
    "\n",
    "group_name_test() \n",
    "print(\"All tests passed!\")"
   ]
  },
  {
   "cell_type": "markdown",
   "id": "26c9394f",
   "metadata": {
    "deletable": false,
    "editable": false,
    "nbgrader": {
     "cell_type": "markdown",
     "checksum": "4150e60e9202b72dfda6f66119e212fd",
     "grade": false,
     "grade_id": "taskheader_1",
     "locked": true,
     "schema_version": 3,
     "solution": false,
     "task": false
    }
   },
   "source": [
    "# Task 1\n",
    "\n",
    "**[130 Point(s)]**"
   ]
  },
  {
   "cell_type": "markdown",
   "id": "78138a14",
   "metadata": {
    "deletable": false,
    "editable": false,
    "nbgrader": {
     "cell_type": "markdown",
     "checksum": "9e262f7dc35a13fc3caa9d8581f243f4",
     "grade": false,
     "grade_id": "social_robotics_Asocial_robotics_Bsocial_robotics_Csocial_robotics_Dsocial_robotics_Esocial_robotics_F_Header",
     "locked": true,
     "schema_version": 3,
     "solution": false,
     "task": false
    }
   },
   "source": [
    "# Social Robot Navigation and Seating Arrangement\n",
    "\n",
    "## Background\n",
    "You are working with a social robot in a home environment that needs to help coordinate a dinner gathering. The robot must help guide guests to their seats at the dining table while respecting social constraints and optimizing its path. The home layout is provided with furniture, walls, and initial positions of people marked.\n",
    "\n",
    "## Scenario\n",
    "A dinner party is being hosted where 8 guests (P1-P8) are dispersed throughout the house. The robot needs to:\n",
    "1. Determine a valid seating arrangement at the dining table based on social constraints\n",
    "2. Plan paths to guide each guest to their assigned seat\n",
    "\n",
    "### Note\n",
    "__You are not limited to using the provided libraries or function skeletons. Feel free to use any other tools or methods that you believe are better suited for implementing this solution. The only requirement is to use the randomly generated house layout provided with the assignment. Your solution must be built using this specific house layout.__\n"
   ]
  },
  {
   "cell_type": "markdown",
   "id": "c7a54c13",
   "metadata": {
    "deletable": false,
    "editable": false,
    "nbgrader": {
     "cell_type": "markdown",
     "checksum": "7e5f80324c45d1fb05c40d9c883f9188",
     "grade": false,
     "grade_id": "taskheader_1_1",
     "locked": true,
     "schema_version": 3,
     "solution": false,
     "task": false
    }
   },
   "source": [
    "## Task 1.1\n",
    "\n",
    "**[10 Point(s)]**"
   ]
  },
  {
   "cell_type": "markdown",
   "id": "b06c9ca9",
   "metadata": {
    "deletable": false,
    "editable": false,
    "nbgrader": {
     "cell_type": "markdown",
     "checksum": "8faf842e446bef2ecc2b5768bbc5d372",
     "grade": false,
     "grade_id": "social_robotics_A_Description0",
     "locked": true,
     "schema_version": 3,
     "solution": false,
     "task": false
    }
   },
   "source": [
    "### Task1: Read the Home layout (10 points)\n",
    "\n",
    "The task is to develop a pathfinding solution for a robot operating on a grid. The robot of the **dimension(2x2)** must guide several people of the **dimension(1x1)** to their destinations, minimizing the overall cost. The grid's configuration - **obstacles, location of people, furniture placement** is dynamic and changes per execution but the **number of rooms** remain same. The annotations for identifying obstacles and people remains the same throughtout all runs. This grid layout will be available in a file produced by the given function. \n",
    "\n",
    "**You need to implement a function capable of reading and parsing this file.**\n",
    "\n",
    "For the purpose of visualisation the home layout is also visible as a plot below.\n",
    "\n",
    "\n",
    "#### Grid Symbol Legend\n",
    "    - `.` : Empty space/Corridor\n",
    "    - `W` : Wall\n",
    "    - `L` : Living Room  \n",
    "    - `D` : Dining Room\n",
    "    - `K` : Kitchen\n",
    "    - `B` : Bedroom\n",
    "    - `C` : Balcony\n",
    "    - `d` : Door\n",
    "    - `r` : Robot\n",
    "    - `T` : Dining Table\n",
    "    - `H` : Dining Chair\n",
    "    - `S` : Sofa\n",
    "    - `c` : Coffee Table\n",
    "    - `b` : Bed\n",
    "    - `A` : Wardrobe\n",
    "    - `k` : Kitchen Counter\n",
    "    - `F` : Fridge\n",
    "    - `G` : Garden Chair\n",
    "    - `1-N`: Person (where N is the number of people)"
   ]
  },
  {
   "cell_type": "code",
   "execution_count": 880,
   "id": "3241f2f5",
   "metadata": {
    "ExecuteTime": {
     "end_time": "2025-05-04T17:36:02.064141Z",
     "start_time": "2025-05-04T17:36:00.575889Z"
    },
    "deletable": false,
    "editable": false,
    "nbgrader": {
     "cell_type": "code",
     "checksum": "e5ac129dc938bacb9462f7e6d050d9e1",
     "grade": false,
     "grade_id": "social_robotics_A_Description1",
     "locked": true,
     "schema_version": 3,
     "solution": false,
     "task": false
    }
   },
   "outputs": [
    {
     "data": {
      "image/png": "[encoded data removed]",
      "text/plain": [
       "<Figure size 1500x1500 with 1 Axes>"
      ]
     },
     "metadata": {},
     "output_type": "display_data"
    }
   ],
   "source": [
    "from utils.home_layout import generate_house_layout\n",
    "\n",
    "grid, rooms = generate_house_layout(file_name = 'home.txt')"
   ]
  },
  {
   "cell_type": "code",
   "execution_count": 881,
   "id": "8c087363",
   "metadata": {
    "ExecuteTime": {
     "end_time": "2025-05-04T17:36:02.086485Z",
     "start_time": "2025-05-04T17:36:02.071816Z"
    },
    "deletable": false,
    "nbgrader": {
     "cell_type": "code",
     "checksum": "59039f7951dcd43ad5fe29d36e7c567c",
     "grade": true,
     "grade_id": "social_robotics_A",
     "locked": false,
     "points": 10,
     "schema_version": 3,
     "solution": true,
     "task": false
    }
   },
   "outputs": [
    {
     "name": "stdout",
     "output_type": "stream",
     "text": [
      "[['W' 'W' 'W' ... 'W' 'W' 'W']\n",
      " ['W' '.' '.' ... '.' '.' 'W']\n",
      " ['W' '.' '.' ... '.' '.' 'W']\n",
      " ...\n",
      " ['W' '.' '.' ... '.' '.' 'W']\n",
      " ['W' '.' '.' ... '.' '.' 'W']\n",
      " ['W' 'W' 'W' ... 'W' 'W' 'W']]\n"
     ]
    },
    {
     "data": {
      "text/plain": [
       "{'L': (slice(10, 51, None), slice(10, 54, None)),\n",
       " 'D': (slice(10, 51, None), slice(54, 69, None)),\n",
       " 'K': (slice(51, 90, None), slice(54, 69, None)),\n",
       " 'B': (slice(51, 90, None), slice(10, 54, None)),\n",
       " 'C': (slice(10, 51, None), slice(69, 90, None))}"
      ]
     },
     "execution_count": 881,
     "metadata": {},
     "output_type": "execute_result"
    }
   ],
   "source": [
    "import numpy as np\n",
    "\n",
    "with open('home.txt', 'r') as file:\n",
    "    for line in file:\n",
    "        np.append(grid, line.strip().split())\n",
    "\n",
    "obstacles = np.array(['W', 'T', 'H', 'S', 'c', 'b', 'A', 'k', 'F', 'G', '1', '2', '3', '4', '5', '6', '7', '8'])\n",
    "print(grid)\n",
    "rooms"
   ]
  },
  {
   "cell_type": "markdown",
   "id": "48cfd278",
   "metadata": {
    "deletable": false,
    "editable": false,
    "nbgrader": {
     "cell_type": "markdown",
     "checksum": "da5941168a4eb982707f0b2f13d8ed7a",
     "grade": false,
     "grade_id": "taskheader_1_2",
     "locked": true,
     "schema_version": 3,
     "solution": false,
     "task": false
    }
   },
   "source": [
    "## Task 1.2\n",
    "\n",
    "**[20 Point(s)]**"
   ]
  },
  {
   "cell_type": "markdown",
   "id": "48838d43",
   "metadata": {
    "deletable": false,
    "editable": false,
    "nbgrader": {
     "cell_type": "markdown",
     "checksum": "61458a93fc8ef1f0248343fe9d3dbe52",
     "grade": false,
     "grade_id": "social_robotics_B_Description0",
     "locked": true,
     "schema_version": 3,
     "solution": false,
     "task": false
    }
   },
   "source": [
    "## Task 2: Topological Mapping (20 points)\n",
    "\n",
    "The robot needs to navigate through a large house environment to guide people to their seats. Planning paths directly on this grid is inefficient. Your task is to create a topological graph that represents the house layout at a higher level of abstraction, enabling hierarchical path planning.\n",
    "\n",
    "#### Why does it matter? \n",
    "A topological map reduces the problem by first planning through rooms, then detailed paths.This hierarchical approach significantly reduces the search space and planning time.\n",
    "\n",
    "\n",
    "\n",
    "To do so, you can utilise [networkx](https://networkx.org/) for creating graphs.\n",
    "Below is an example showing how to create and visualize a graph with networkx. Feel free to implement your own approach - this is just an illustration and not meant to dictate your solution.\n"
   ]
  },
  {
   "cell_type": "code",
   "execution_count": 882,
   "id": "a3afc2e8",
   "metadata": {
    "ExecuteTime": {
     "end_time": "2025-05-04T17:36:03.423006Z",
     "start_time": "2025-05-04T17:36:02.088979Z"
    },
    "deletable": false,
    "editable": false,
    "nbgrader": {
     "cell_type": "code",
     "checksum": "728896ce6560cb9020f223e6b2b1fd4b",
     "grade": false,
     "grade_id": "social_robotics_B_Description1",
     "locked": true,
     "points": 20,
     "schema_version": 3,
     "solution": false,
     "task": false
    }
   },
   "outputs": [
    {
     "data": {
      "image/png": "[encoded data removed]",
      "text/plain": [
       "<Figure size 800x600 with 1 Axes>"
      ]
     },
     "metadata": {},
     "output_type": "display_data"
    }
   ],
   "source": [
    "# !pip install networkx\n",
    "import networkx as nx\n",
    "import numpy as np\n",
    "import matplotlib.pyplot as plt\n",
    "\n",
    "\n",
    "# Create a new graph\n",
    "G = nx.Graph()\n",
    "\n",
    "# Add nodes (rooms)\n",
    "G.add_node(\"Living Room\")\n",
    "G.add_node(\"Kitchen\") \n",
    "G.add_node(\"Bedroom\")\n",
    "G.add_node(\"Dining Room\")\n",
    "\n",
    "# Add edges (doors/connections between rooms)\n",
    "G.add_edge(\"Living Room\", \"Kitchen\")\n",
    "G.add_edge(\"Living Room\", \"Dining Room\")\n",
    "G.add_edge(\"Kitchen\", \"Dining Room\") \n",
    "G.add_edge(\"Living Room\", \"Bedroom\")\n",
    "\n",
    "# Draw the graph\n",
    "plt.figure(figsize=(8,6))\n",
    "pos = nx.spring_layout(G)\n",
    "nx.draw(G, pos, with_labels=True, node_color='lightblue', \n",
    "        node_size=1500, font_size=10, font_weight='bold')\n",
    "plt.title(\"House Topology Graph\")\n",
    "plt.show()\n"
   ]
  },
  {
   "cell_type": "code",
   "execution_count": 883,
   "id": "37974e1e",
   "metadata": {
    "ExecuteTime": {
     "end_time": "2025-05-04T18:38:56.120288Z",
     "start_time": "2025-05-04T18:38:55.954116Z"
    },
    "deletable": false,
    "nbgrader": {
     "cell_type": "code",
     "checksum": "736220f6ee9e641ae73aff32dea8645f",
     "grade": true,
     "grade_id": "social_robotics_B",
     "locked": false,
     "points": 20,
     "schema_version": 3,
     "solution": true,
     "task": false
    }
   },
   "outputs": [
    {
     "data": {
      "image/png": "[encoded data removed]",
      "text/plain": [
       "<Figure size 800x600 with 1 Axes>"
      ]
     },
     "metadata": {},
     "output_type": "display_data"
    }
   ],
   "source": [
    "import networkx as nx\n",
    "import numpy as np\n",
    "import matplotlib.pyplot as plt\n",
    "\n",
    "# Defining the dict for ease of plotting\n",
    "room_dict = {\n",
    "    'L': 'Living Room',\n",
    "    'D': 'Dining Room',\n",
    "    'K': 'Kitchen',\n",
    "    'B': 'Bedroom',\n",
    "    'C': 'Balcony'\n",
    "}\n",
    "\n",
    "G = nx.Graph()\n",
    "\n",
    "# Adding rooms as nodes\n",
    "for room in rooms:\n",
    "    G.add_node(room_dict[room])\n",
    "\n",
    "# Mapping each door to the rooms it touches. Need some way of keeping track of \n",
    "# common doors when traversing separate rooms. So Use dict with door location \n",
    "# as key and touching rooms as values\n",
    "door_to_rooms = {}\n",
    "for room, slc in rooms.items():\n",
    "    # Getting the room coordinates\n",
    "    x_start, x_end = slc[0].start, slc[0].stop\n",
    "    y_start, y_end = slc[1].start, slc[1].stop\n",
    "\n",
    "    # The slice sometimes contains only room and no walls\n",
    "    # Check +-1 around the slice to include any potential 'd' cells in the wall\n",
    "    for x in range(x_start - 1, x_end + 1):\n",
    "        for y in range(y_start - 1, y_end + 1):\n",
    "            if grid[x, y] == 'd':\n",
    "                if (x, y) not in door_to_rooms:\n",
    "                    door_to_rooms[(x, y)] = []\n",
    "                door_to_rooms[(x, y)].append(room)\n",
    "\n",
    "for touching_rooms in door_to_rooms.values():\n",
    "    # if check Needed because doors are 3x3 and protrude into rooms, so many of the 'd' cells \n",
    "    # are captured in the traversal of only the room they protrude into\n",
    "    if len(touching_rooms) >= 2:\n",
    "        for i in range(len(touching_rooms)):\n",
    "            for j in range(i+1, len(touching_rooms)):\n",
    "                G.add_edge(room_dict[touching_rooms[i]], room_dict[touching_rooms[j]])\n",
    "\n",
    "# Draw the graph\n",
    "plt.figure(figsize=(8,6))\n",
    "pos = nx.spring_layout(G)\n",
    "nx.draw(G, pos, with_labels=True, node_color='lightblue', \n",
    "        node_size=1500, font_size=10, font_weight='bold')\n",
    "plt.title(\"House Topology Graph\")\n",
    "plt.show()"
   ]
  },
  {
   "cell_type": "markdown",
   "id": "c7c48011",
   "metadata": {
    "deletable": false,
    "editable": false,
    "nbgrader": {
     "cell_type": "markdown",
     "checksum": "74df96edec0b9432d8460face7b0fd68",
     "grade": false,
     "grade_id": "taskheader_1_3",
     "locked": true,
     "schema_version": 3,
     "solution": false,
     "task": false
    }
   },
   "source": [
    "## Task 1.3\n",
    "\n",
    "**[30 Point(s)]**"
   ]
  },
  {
   "cell_type": "markdown",
   "id": "eb5435b0",
   "metadata": {
    "deletable": false,
    "editable": false,
    "nbgrader": {
     "cell_type": "markdown",
     "checksum": "a05f843d81bf041523be37156028ded2",
     "grade": false,
     "grade_id": "social_robotics_C_Description0",
     "locked": true,
     "schema_version": 3,
     "solution": false,
     "task": false
    }
   },
   "source": [
    "## Task 3: Path Planning (30 points)\n",
    "\n",
    "The robot needs to guide multiple people to their assigned seats at the dining table. For each person, the robot must:\n",
    "\n",
    "1. Plan a path from the robot's current position to the person\n",
    "2. Plan a path from the person to their assigned seat\n",
    "3. Implement A* search algorithm for path planning\n",
    "4. Handle obstacles (furniture, walls) and other people as blocked cells\n",
    "\n",
    "To do so, you need to **implement A\\* search with appropriate heuristic function**, make sure to account for walls, furniture and other people as obstacles.\n",
    "\n",
    "**Calculate and print total path cost for the complete guidance task**."
   ]
  },
  {
   "cell_type": "code",
   "execution_count": 884,
   "id": "06369693",
   "metadata": {
    "ExecuteTime": {
     "end_time": "2025-05-04T17:36:04.366570Z",
     "start_time": "2025-05-04T17:36:03.637743Z"
    },
    "deletable": false,
    "nbgrader": {
     "cell_type": "code",
     "checksum": "bf87a2a0244f292fcf47235c7984d46a",
     "grade": true,
     "grade_id": "social_robotics_C",
     "locked": false,
     "points": 30,
     "schema_version": 3,
     "solution": true,
     "task": false
    }
   },
   "outputs": [
    {
     "name": "stdout",
     "output_type": "stream",
     "text": [
      "\n",
      "Guiding person 1 at (12, 89) to chair at (63, 16)\n",
      "Guided person 1: Robot to Person = 98, Person to Chair = 124, Total = 222\n",
      "\n",
      "Guiding person 2 at (66, 74) to chair at (64, 16)\n",
      "Guided person 2: Robot to Person = 64, Person to Chair = 66, Total = 130\n",
      "\n",
      "Guiding person 3 at (42, 22) to chair at (62, 17)\n",
      "Guided person 3: Robot to Person = 47, Person to Chair = 43, Total = 90\n",
      "\n",
      "Guiding person 4 at (10, 15) to chair at (65, 17)\n",
      "Guided person 4: Robot to Person = 81, Person to Chair = 85, Total = 166\n",
      "\n",
      "Guiding person 5 at (20, 84) to chair at (62, 18)\n",
      "Guided person 5: Robot to Person = 113, Person to Chair = 108, Total = 221\n",
      "\n",
      "Guiding person 6 at (85, 42) to chair at (65, 18)\n",
      "Guided person 6: Robot to Person = 54, Person to Chair = 52, Total = 106\n",
      "\n",
      "Guiding person 7 at (54, 34) to chair at (63, 19)\n",
      "Guided person 7: Robot to Person = 26, Person to Chair = 24, Total = 50\n",
      "\n",
      "Guiding person 8 at (38, 33) to chair at (64, 19)\n",
      "Guided person 8: Robot to Person = 38, Person to Chair = 40, Total = 78\n",
      "\n",
      "Total cost to guide all people: 1063\n"
     ]
    },
    {
     "data": {
      "text/plain": [
       "1063"
      ]
     },
     "execution_count": 884,
     "metadata": {},
     "output_type": "execute_result"
    }
   ],
   "source": [
    "import numpy as np\n",
    "import heapq\n",
    "\n",
    "# Constants\n",
    "MOVES = [(-1, 0), (1, 0), (0, -1), (0, 1)]\n",
    "\n",
    "# Robot avoids all furniture and people\n",
    "ROBOT_OBSTACLES = {'W', 'T', 'H', 'S', 'c', 'b', 'A', 'k', 'F', 'G'} | set('12345678')\n",
    "\n",
    "# Person avoids only walls and large furniture (but can step on chairs!)\n",
    "PERSON_OBSTACLES = {'W', 'T', 'S', 'c', 'b', 'A', 'k', 'F', 'G'}\n",
    "\n",
    "# Robot can walk on: empty, door, room labels, its own position\n",
    "WALKABLE = {'.', 'd', 'L', 'D', 'K', 'B', 'C', ' ', 'r'}\n",
    "\n",
    "\n",
    "def is_valid_robot_pos(grid, x, y):\n",
    "    h, w = grid.shape\n",
    "    if x < 0 or y < 0 or x + 1 >= w or y + 1 >= h:\n",
    "        return False\n",
    "    for dy in [-1, 1]:\n",
    "        for dx in [-1, 1]:\n",
    "            if grid[y + dy][x + dx] in ROBOT_OBSTACLES:\n",
    "                return False\n",
    "    return True\n",
    "\n",
    "def find_robot_position(grid):\n",
    "    r_positions = [(x, y) for y in range(grid.shape[0]) for x in range(grid.shape[1]) if grid[y][x] == 'r']\n",
    "    for x, y in r_positions:\n",
    "        if ((x + 1, y) in r_positions and (x, y + 1) in r_positions and (x + 1, y + 1) in r_positions):\n",
    "            # print(f\"Found 2x2 robot block at top-left: ({x}, {y})\")\n",
    "            return (x, y)\n",
    "    print(\"No valid 2x2 'r' block found\")\n",
    "    return (0, 0)\n",
    "\n",
    "def find_people_and_chairs(grid):\n",
    "    people = {}\n",
    "    chairs = []\n",
    "    for y in range(grid.shape[0]):\n",
    "        for x in range(grid.shape[1]):\n",
    "            val = grid[y][x]\n",
    "            if val in '12345678':\n",
    "                people[int(val)] = (x, y)\n",
    "            elif val == 'H':\n",
    "                chairs.append((x, y))\n",
    "    # print(f\"Found {len(people)} people and {len(chairs)} chairs\")\n",
    "    return people, chairs\n",
    "\n",
    "def heuristic(a, b):\n",
    "    return abs(a[0] - b[0]) + abs(a[1] - b[1])\n",
    "\n",
    "def a_star(grid, start, goal, is_robot=True):\n",
    "    obstacles = ROBOT_OBSTACLES if is_robot else PERSON_OBSTACLES\n",
    "    def is_valid(x, y):\n",
    "        h, w = grid.shape\n",
    "        if not (0 <= x < w and 0 <= y < h):\n",
    "            return False\n",
    "        return grid[y][x] not in obstacles\n",
    "\n",
    "    open_set = [(heuristic(start, goal), 0, start)]\n",
    "    came_from = {}\n",
    "    g_score = {start: 0}\n",
    "\n",
    "    while open_set:\n",
    "        _, cost, current = heapq.heappop(open_set)\n",
    "        if current == goal:\n",
    "            return cost\n",
    "\n",
    "        for dx, dy in MOVES:\n",
    "            nx, ny = current[0] + dx, current[1] + dy\n",
    "            if not is_valid(nx, ny):\n",
    "                continue\n",
    "            neighbor = (nx, ny)\n",
    "            tentative = cost + 1\n",
    "            if neighbor not in g_score or tentative < g_score[neighbor]:\n",
    "                g_score[neighbor] = tentative\n",
    "                heapq.heappush(open_set, (tentative + heuristic(neighbor, goal), tentative, neighbor))\n",
    "                came_from[neighbor] = current\n",
    "\n",
    "    return None\n",
    "\n",
    "def find_adjacent_valid_robot_positions(grid, person_pos):\n",
    "    x, y = person_pos\n",
    "    adjacent = []\n",
    "    for dx, dy in MOVES:\n",
    "        rx, ry = x + dx, y + dy\n",
    "        if is_valid_robot_pos(grid, rx, ry):\n",
    "            adjacent.append((rx, ry))\n",
    "    return adjacent\n",
    "\n",
    "def assign_chairs_to_people(people, chairs):\n",
    "    assignments = {}\n",
    "    sorted_people = sorted(people.items())\n",
    "    for i, (pid, ppos) in enumerate(sorted_people):\n",
    "        if i < len(chairs):\n",
    "            assignments[pid] = chairs[i]\n",
    "    return assignments\n",
    "\n",
    "def find_total_cost_with_AStar(assignments = None):\n",
    "    \n",
    "    robot_pos = find_robot_position(grid)\n",
    "    people, chairs = find_people_and_chairs(grid)\n",
    "    if assignments is None:\n",
    "        assignments = assign_chairs_to_people(people, chairs)\n",
    "        # print(assignments)\n",
    "\n",
    "    total_cost = 0\n",
    "\n",
    "    for pid in sorted(people):\n",
    "        person_pos = people[pid]\n",
    "        chair_pos = assignments.get(pid)\n",
    "\n",
    "        if not chair_pos:\n",
    "            print(f\"No chair assigned to person {pid}\")\n",
    "            continue\n",
    "\n",
    "        print(f\"\\nGuiding person {pid} at {person_pos} to chair at {chair_pos}\")\n",
    "\n",
    "        adj_positions = find_adjacent_valid_robot_positions(grid, person_pos)\n",
    "        # print(\"adj_positions: \", adj_positions)\n",
    "        if not adj_positions:\n",
    "            print(f\"No adjacent valid 2x2 robot position near person {pid}\")\n",
    "            continue\n",
    "\n",
    "        # Find shortest robot to adjacent\n",
    "        min_robot_cost = None\n",
    "        for adj in adj_positions:\n",
    "            cost = a_star(grid, robot_pos, adj, is_robot=True)\n",
    "            if cost is not None and (min_robot_cost is None or cost < min_robot_cost):\n",
    "                min_robot_cost = cost\n",
    "                robot_goal = adj\n",
    "\n",
    "        if min_robot_cost is None:\n",
    "            print(f\"No path from robot to person {pid}\")\n",
    "            continue\n",
    "\n",
    "        person_to_chair = a_star(grid, person_pos, chair_pos, is_robot=False)\n",
    "        if person_to_chair is None:\n",
    "            print(f\"No path from person {pid} to chair\")\n",
    "            continue\n",
    "\n",
    "        total = min_robot_cost + person_to_chair\n",
    "        total_cost += total\n",
    "        robot_pos = chair_pos  # Robot follows person\n",
    "\n",
    "        print(f\"Guided person {pid}: Robot to Person = {min_robot_cost}, Person to Chair = {person_to_chair}, Total = {total}\")\n",
    "\n",
    "    print(f\"\\nTotal cost to guide all people: {total_cost}\")\n",
    "    return total_cost\n",
    "\n",
    "find_total_cost_with_AStar()"
   ]
  },
  {
   "cell_type": "markdown",
   "id": "94f9237f",
   "metadata": {
    "deletable": false,
    "editable": false,
    "nbgrader": {
     "cell_type": "markdown",
     "checksum": "21de2960215a48e24117795161d5a9fd",
     "grade": false,
     "grade_id": "taskheader_1_4",
     "locked": true,
     "schema_version": 3,
     "solution": false,
     "task": false
    }
   },
   "source": [
    "## Task 1.4\n",
    "\n",
    "**[40 Point(s)]**"
   ]
  },
  {
   "cell_type": "markdown",
   "id": "beb50ad9",
   "metadata": {
    "deletable": false,
    "editable": false,
    "nbgrader": {
     "cell_type": "markdown",
     "checksum": "784ecd6fd47b903bcafa0a5cae3f5c79",
     "grade": false,
     "grade_id": "social_robotics_D_Description0",
     "locked": true,
     "schema_version": 3,
     "solution": false,
     "task": false
    }
   },
   "source": [
    "## Task 4: Seating Arrangement Constraint Satisfaction (30 points)\n",
    "\n",
    "The robot needs to determine valid seating arrangements for 8 people around the dining table while respecting social constraints. Each arrangement must satisfy basic constraints (one person per seat) and specific social preferences of individuals.\n",
    "\n",
    "\n",
    "\n",
    "### Social Constraints:\n",
    "1. Language Groups:\n",
    "   - P1, P2, P3 speak English only\n",
    "   - P4, P5 speak Spanish only\n",
    "   - P6, P7, P8 are bilingual\n",
    "   - At least one bilingual person must sit between language groups\n",
    "   \n",
    "2. Conversation Preferences:\n",
    "   - P1 wants to discuss business with P6 and needs to sit together\n",
    "   - P3 and P5 are in a heated argument so must be far apart at the table\n",
    "   - P2 and P8 are close friends so want to sit together\n",
    "   - P4 and P7 are sharing a presentation so need to sit adjacent\n",
    "\n",
    "\n",
    "**Implement a constraint satisfaction solver to find valid seating arrangements, please use backtracking search to find all possible valid arrangements.**"
   ]
  },
  {
   "cell_type": "code",
   "execution_count": 885,
   "id": "f64d8b60",
   "metadata": {
    "ExecuteTime": {
     "end_time": "2025-05-06T21:55:30.393666Z",
     "start_time": "2025-05-06T21:55:30.324137Z"
    },
    "deletable": false,
    "nbgrader": {
     "cell_type": "code",
     "checksum": "923648f9f2ce27913c74409ae6f32100",
     "grade": true,
     "grade_id": "social_robotics_D",
     "locked": false,
     "points": 40,
     "schema_version": 3,
     "solution": true,
     "task": false
    }
   },
   "outputs": [],
   "source": [
    "# YOUR CODE HERE\n",
    "#assignment = {} # {Person: Seat}\n",
    "\n",
    "# function BACKTRACKING-SEARCH(csp) returns a solution or failure\n",
    "#     return BACKTRACK(csp, { })\n",
    "# function BACKTRACK(csp, assignment) returns a solution or failure\n",
    "#     if assignment is complete then return assignment\n",
    "#     var ← SELECT-UNASSIGNED-VARIABLE(csp, assignment)\n",
    "#     for each value in ORDER-DOMAIN-VALUES(csp, var, assignment) do\n",
    "#         if value is consistent with assignment then\n",
    "#             add {var = value} to assignment\n",
    "#             inferences ← I NFERENCE(csp, var, assignment)\n",
    "#             if inferences != failure then\n",
    "#                 add inferences to csp\n",
    "#                 result ← BACKTRACK(csp, assignment)\n",
    "#                 if result != failure then return result\n",
    "#                 remove inferences from csp\n",
    "#             remove {var = value} from assignment\n",
    "#     return failure\n",
    "\n",
    "def is_complete(csp, assignment):\n",
    "    return len(assignment) == len(csp[\"people\"])\n",
    "\n",
    "def adjacent(s1, s2):\n",
    "    return abs(s1 - s2) == 1 or abs(s1 - s2) == 7  # circular table\n",
    "\n",
    "def far_apart(s1, s2):\n",
    "    '''\n",
    "    By far apart, I assume it to mean that the persons are atleast 2 seats apart.\n",
    "    It could also be taken to mean that the persons are diametrically opposite, but that is a \n",
    "    constraint which gives 0 valid arrangements when taken along with the other social constraints.\n",
    "    '''\n",
    "    # Check for adjacency or separation by only one person\n",
    "    if adjacent(s1, s2) or abs(s1 - s2) == 2 or abs(s1 - s2) == 6:\n",
    "        return False\n",
    "    return True\n",
    "\n",
    "def is_consistent(var, value, assignment):\n",
    "    if value in assignment.values():  # Ensure one person per seat\n",
    "        return False\n",
    "    temp_assign = assignment.copy()\n",
    "    temp_assign[var] = value\n",
    "    return all_constraints_satisfied(temp_assign)\n",
    "\n",
    "def all_constraints_satisfied(assignment):\n",
    "    if 'P1' in assignment and 'P6' in assignment:\n",
    "        if not adjacent(assignment['P1'], assignment['P6']):\n",
    "            return False\n",
    "        \n",
    "    if 'P2' in assignment and 'P8' in assignment:\n",
    "        if not adjacent(assignment['P2'], assignment['P8']):\n",
    "            return False\n",
    "    \n",
    "    if 'P4' in assignment and 'P7' in assignment:\n",
    "        if not adjacent(assignment['P4'], assignment['P7']):\n",
    "            return False\n",
    "        \n",
    "    if 'P3' in assignment and 'P5' in assignment:\n",
    "        if not far_apart(assignment['P3'], assignment['P5']):\n",
    "            return False\n",
    "\n",
    "    # Language group separation\n",
    "    english_only = {'P1', 'P2', 'P3'}\n",
    "    spanish_only = {'P4', 'P5'}\n",
    "    # bilingual = {'P6', 'P7', 'P8'}\n",
    "    # num_seats = len(csp[\"people\"])\n",
    "\n",
    "    for p_en in english_only:\n",
    "        for p_sp in spanish_only:\n",
    "            if p_en not in assignment or p_sp not in assignment:\n",
    "                continue\n",
    "            if adjacent(assignment[p_en], assignment[p_sp]):\n",
    "                return False\n",
    "    return True\n",
    "\n",
    "def SELECT_UNASSIGNED_VARIABLE(csp, assignment):\n",
    "    unassigned = [p for p in csp[\"people\"] if p not in assignment]\n",
    "    return min(unassigned, key=lambda person: len(csp[\"domains\"][person]))\n",
    "\n",
    "def ORDER_DOMAIN_VALUES(csp, var, assignment):\n",
    "    return csp[\"domains\"][var]\n",
    "\n",
    "def INFERENCE(csp, value, assignment):\n",
    "    inferences = {}\n",
    "    for p in csp[\"people\"]:\n",
    "        if p not in assignment and value in csp[\"domains\"][p]:\n",
    "            # Remove the assigned value from others’ domains (no two people on the same seat)\n",
    "            csp[\"domains\"][p].remove(value)\n",
    "            if not csp[\"domains\"][p]:  # Domain wipe-out = failure\n",
    "                return None\n",
    "            inferences[p] = value\n",
    "    return inferences\n",
    "\n",
    "def BACKTRACK(csp, assignment, solutions):\n",
    "    if is_complete(csp, assignment):\n",
    "        if all_constraints_satisfied(assignment):\n",
    "            solutions.append(assignment.copy())\n",
    "        return\n",
    "\n",
    "    var = SELECT_UNASSIGNED_VARIABLE(csp, assignment)\n",
    "    for value in ORDER_DOMAIN_VALUES(csp, var, assignment):\n",
    "        if is_consistent(var, value, assignment):\n",
    "            assignment[var] = value\n",
    "            # Copy domains before making inferences\n",
    "            saved_domains = {person: list(csp[\"domains\"][person]) for person in csp[\"people\"]}\n",
    "            inferences = INFERENCE(csp, value, assignment)\n",
    "\n",
    "            if inferences is not None:\n",
    "                BACKTRACK(csp, assignment, solutions)\n",
    "\n",
    "            # Restore domains and assignment\n",
    "            csp[\"domains\"] = saved_domains\n",
    "            del assignment[var]\n",
    "\n",
    "def backtracking_search_all(csp):\n",
    "    solutions = []\n",
    "    BACKTRACK(csp, {}, solutions)\n",
    "    return solutions\n",
    "\n",
    "# csp = {\n",
    "#     \"people\": ['P1','P2','P3','P4','P5','P6','P7','P8'],\n",
    "#     \"domains\": {p: list(range(1, 9)) for p in ['P1','P2','P3','P4','P5','P6','P7','P8']}\n",
    "# }\n",
    "\n",
    "# solutions = backtracking_search_all(csp)\n",
    "# solutions\n",
    "# print(f\"Total valid seating arrangements found: {len(solutions)}\\n\")\n",
    "# for i, sol in enumerate(solutions, 1):\n",
    "#     ordered = sorted(sol.items(), key=lambda x: x[1])\n",
    "#     seating_order = [f\"{p} (Seat {s})\" for p, s in ordered]\n",
    "#     print(f\"Arrangement {i}: {seating_order}\")"
   ]
  },
  {
   "cell_type": "code",
   "execution_count": null,
   "id": "ab467435",
   "metadata": {},
   "outputs": [],
   "source": []
  },
  {
   "cell_type": "markdown",
   "id": "2aef822d",
   "metadata": {
    "deletable": false,
    "editable": false,
    "nbgrader": {
     "cell_type": "markdown",
     "checksum": "c6947b247e7502f87a3b94b552831cb7",
     "grade": false,
     "grade_id": "taskheader_1_5",
     "locked": true,
     "schema_version": 3,
     "solution": false,
     "task": false
    }
   },
   "source": [
    "## Task 1.5\n",
    "\n",
    "**[20 Point(s)]**"
   ]
  },
  {
   "cell_type": "markdown",
   "id": "a63922c9",
   "metadata": {
    "deletable": false,
    "editable": false,
    "nbgrader": {
     "cell_type": "markdown",
     "checksum": "4c55b43d195c012d409a1a3e7658cfbc",
     "grade": false,
     "grade_id": "social_robotics_E_Description0",
     "locked": true,
     "schema_version": 3,
     "solution": false,
     "task": false
    }
   },
   "source": [
    "## Task 5: Integration (10 points)\n",
    "\n",
    "The final task is to integrate all the previous components into a complete solution that demonstrates the robot's ability to efficiently guide guests to their seats while respecting both physical constraints of the environment and social seating preferences.\n",
    "\n",
    "**Implement the following:**\n",
    "- Apply the seating arrangement solution from the constraint satisfaction solver to find the valid seating arrangement\n",
    "- Then use the topological map to find the local map for each guest\n",
    "- Then use the A* search algorithm on the local map to find the path from the robot to each guest and from each guest to their assigned seat\n",
    "- Show the total cost of the path taken by the robot and display the seating arrangment."
   ]
  },
  {
   "cell_type": "code",
   "execution_count": 886,
   "id": "5965b786",
   "metadata": {
    "ExecuteTime": {
     "end_time": "2025-05-04T17:36:04.370561Z",
     "start_time": "2025-05-04T17:36:04.370543Z"
    },
    "deletable": false,
    "nbgrader": {
     "cell_type": "code",
     "checksum": "ca7df31f0d3be92920b92d688d03d8d0",
     "grade": true,
     "grade_id": "social_robotics_E",
     "locked": false,
     "points": 20,
     "schema_version": 3,
     "solution": true,
     "task": false
    }
   },
   "outputs": [
    {
     "name": "stdout",
     "output_type": "stream",
     "text": [
      "\n",
      "Guiding person 1 at (12, 89) to chair at (63, 19)\n",
      "Guided person 1: Robot to Person = 98, Person to Chair = 121, Total = 219\n",
      "\n",
      "Guiding person 2 at (66, 74) to chair at (65, 18)\n",
      "Guided person 2: Robot to Person = 61, Person to Chair = 65, Total = 126\n",
      "\n",
      "Guiding person 3 at (42, 22) to chair at (65, 17)\n",
      "Guided person 3: Robot to Person = 44, Person to Chair = 46, Total = 90\n",
      "\n",
      "Guiding person 4 at (10, 15) to chair at (63, 16)\n",
      "Guided person 4: Robot to Person = 86, Person to Chair = 84, Total = 170\n",
      "\n",
      "Guiding person 5 at (20, 84) to chair at (62, 17)\n",
      "Guided person 5: Robot to Person = 110, Person to Chair = 109, Total = 219\n",
      "\n",
      "Guiding person 6 at (85, 42) to chair at (62, 18)\n",
      "Guided person 6: Robot to Person = 57, Person to Chair = 55, Total = 112\n",
      "\n",
      "Guiding person 7 at (54, 34) to chair at (64, 16)\n",
      "Guided person 7: Robot to Person = 23, Person to Chair = 28, Total = 51\n",
      "\n",
      "Guiding person 8 at (38, 33) to chair at (64, 19)\n",
      "Guided person 8: Robot to Person = 44, Person to Chair = 40, Total = 84\n",
      "\n",
      "Total cost to guide all people: 1071\n",
      "    4  7    \n",
      " 5        3 \n",
      " 6        2 \n",
      "    1  8    \n"
     ]
    }
   ],
   "source": [
    "# YOUR CODE HERE\n",
    "# raise NotImplementedError()\n",
    "from collections import defaultdict\n",
    "\n",
    "# robot_pos = find_robot_position(grid)\n",
    "people, chairs = find_people_and_chairs(grid)\n",
    "# print(\"robot_pos : \", robot_pos)\n",
    "# print(\"people : \", people)\n",
    "# print(\"chairs : \", chairs)\n",
    "people_list = [\"P\"+str(p) for p in list(people.keys())]\n",
    "csp = {\n",
    "    \"people\": people_list,\n",
    "    \"domains\": {p: list(range(1, 9)) for p in people_list}\n",
    "}\n",
    "# print(\"csp: \", csp)\n",
    "assignments = backtracking_search_all(csp)\n",
    "# print(\"assignments : \", assignments)\n",
    "# print(\"Total assignments: \", len(assignments))\n",
    "\n",
    "# convert_csp_output_to_clockwise_chair_order_for_AStar_args() logic was borrowed from LLM Model (GPT).\n",
    "def convert_csp_output_to_clockwise_chair_order_for_AStar_args(chairs):\n",
    "    # Group by Y values (rows)\n",
    "    by_y = defaultdict(list)\n",
    "    for x, y in chairs:\n",
    "        by_y[y].append((x, y))\n",
    "\n",
    "    # Sort Y coordinates (top to bottom)\n",
    "    sorted_ys = sorted(by_y)\n",
    "\n",
    "    # Top and bottom rows\n",
    "    top_row = sorted(by_y[sorted_ys[0]])           # Top row → left to right\n",
    "    bottom_row = sorted(by_y[sorted_ys[-1]], reverse=True)  # Bottom row → right to left\n",
    "\n",
    "    # Middle Y rows for left and right columns\n",
    "    left_side = []\n",
    "    right_side = []\n",
    "\n",
    "    for y in sorted_ys[1:-1]:\n",
    "        row = sorted(by_y[y])\n",
    "        if row:\n",
    "            left_side.append(row[0])               # leftmost chair\n",
    "            if len(row) > 1:\n",
    "                right_side.append(row[-1])         # rightmost chair\n",
    "\n",
    "    right_side = right_side  # top to bottom for clockwise\n",
    "    left_side = left_side[::-1]  # bottom to top for clockwise\n",
    "\n",
    "    # Combine in clockwise order\n",
    "    clockwise_chairs = top_row + right_side + bottom_row + left_side\n",
    "    return clockwise_chairs\n",
    "\n",
    "converted_chairs = convert_csp_output_to_clockwise_chair_order_for_AStar_args(chairs)\n",
    "choosen_assignment = assignments[1]\n",
    "new_assignment = {\n",
    "    int(person[1:]): converted_chairs[seat_num - 1] if seat_num <= len(converted_chairs) else None\n",
    "    for person, seat_num in choosen_assignment.items()\n",
    "}\n",
    "\n",
    "find_total_cost_with_AStar(new_assignment)\n",
    "# print(new_assignment)\n",
    "\n",
    "### Printing logic ##\n",
    "\n",
    "coord_to_person = {v: k for k, v in new_assignment.items()}\n",
    "\n",
    "# Get coordinate bounds\n",
    "xs = [x for x, y in coord_to_person]\n",
    "ys = [y for x, y in coord_to_person]\n",
    "min_x, max_x = min(xs), max(xs)\n",
    "min_y, max_y = min(ys), max(ys)\n",
    "\n",
    "# Print grid\n",
    "for y in range(min_y, max_y + 1):\n",
    "    row = \"\"\n",
    "    for x in range(min_x, max_x + 1):\n",
    "        person = coord_to_person.get((x, y), \"  \")  # Empty if no person\n",
    "        row += f\"{str(person).rjust(2)} \"\n",
    "    print(row)"
   ]
  },
  {
   "cell_type": "markdown",
   "id": "2929bea0",
   "metadata": {
    "deletable": false,
    "editable": false,
    "nbgrader": {
     "cell_type": "markdown",
     "checksum": "27807a790959636238d841d16ac32a55",
     "grade": false,
     "grade_id": "taskheader_1_6",
     "locked": true,
     "schema_version": 3,
     "solution": false,
     "task": false
    }
   },
   "source": [
    "## Task 1.6\n",
    "\n",
    "**[10 Point(s)]**"
   ]
  },
  {
   "cell_type": "markdown",
   "id": "44fbc0e2",
   "metadata": {
    "deletable": false,
    "editable": false,
    "nbgrader": {
     "cell_type": "markdown",
     "checksum": "263f1029f9f1b1197ca2109b7c1a8978",
     "grade": false,
     "grade_id": "social_robotics_F_Description0",
     "locked": true,
     "schema_version": 3,
     "solution": false,
     "task": false
    }
   },
   "source": [
    "## Task 6: Visualisation: Optional (10 points)\n",
    "\n",
    "Let's visualise the path for each person using the provided animation code. Ensure that the path format matches the requirements of the function. You can either use the given animation code or create your own visualization to demonstrate the robot's path."
   ]
  },
  {
   "cell_type": "code",
   "execution_count": 889,
   "id": "1129c5f3",
   "metadata": {
    "ExecuteTime": {
     "end_time": "2025-05-04T17:36:04.372301Z",
     "start_time": "2025-05-04T17:36:04.372262Z"
    },
    "deletable": false,
    "nbgrader": {
     "cell_type": "code",
     "checksum": "ada0a8b3d211b77c865833fc7c303f17",
     "grade": true,
     "grade_id": "social_robotics_F",
     "locked": false,
     "points": 10,
     "schema_version": 3,
     "solution": true,
     "task": false
    }
   },
   "outputs": [
    {
     "ename": "TypeError",
     "evalue": "demonstrate_robot_guidance() missing 1 required positional argument: 'path'",
     "output_type": "error",
     "traceback": [
      "\u001b[31m---------------------------------------------------------------------------\u001b[39m",
      "\u001b[31mTypeError\u001b[39m                                 Traceback (most recent call last)",
      "\u001b[36mCell\u001b[39m\u001b[36m \u001b[39m\u001b[32mIn[889]\u001b[39m\u001b[32m, line 30\u001b[39m\n\u001b[32m     26\u001b[39m     \u001b[38;5;28;01mreturn\u001b[39;00m anim\n\u001b[32m     28\u001b[39m \u001b[38;5;66;03m# Run demonstration\u001b[39;00m\n\u001b[32m---> \u001b[39m\u001b[32m30\u001b[39m anim = \u001b[43mdemonstrate_robot_guidance\u001b[49m\u001b[43m(\u001b[49m\u001b[43mgrid\u001b[49m\u001b[43m,\u001b[49m\u001b[43m \u001b[49m\u001b[43mrooms\u001b[49m\u001b[43m)\u001b[49m\n\u001b[32m     31\u001b[39m HTML(anim.to_jshtml())\n",
      "\u001b[31mTypeError\u001b[39m: demonstrate_robot_guidance() missing 1 required positional argument: 'path'"
     ]
    }
   ],
   "source": [
    "from utils.robot_path_vis import animate_robot_movement\n",
    "from IPython.display import HTML\n",
    "\n",
    "def demonstrate_robot_guidance(grid, rooms,path):\n",
    "    \"\"\"\n",
    "    Demonstrates robot guidance by creating an animation of the robot's path.\n",
    "\n",
    "    Args:\n",
    "        grid: 2D array representing the house layout.\n",
    "        rooms: Dictionary containing room areas.\n",
    "        path: List of (x, y) tuples\n",
    "\n",
    "    The path should be a list of (x, y) tuples representing the coordinates\n",
    "    the robot will follow. The path should start at the robot's initial position,\n",
    "    include the position of the person to guide, and end at the destination.\n",
    "\n",
    "    \"\"\"\n",
    "    \n",
    "    # Placeholder for A* algorithm call to generate path\n",
    "    \n",
    "    # YOUR CODE HERE\n",
    "    # raise NotImplementedError()\n",
    "    \n",
    "    # Create animation\n",
    "    anim = animate_robot_movement(grid, rooms, path, person_following=True)\n",
    "    return anim\n",
    "\n",
    "# Run demonstration\n",
    "\n",
    "anim = demonstrate_robot_guidance(grid, rooms)\n",
    "HTML(anim.to_jshtml())\n",
    "\n"
   ]
  },
  {
   "cell_type": "code",
   "execution_count": null,
   "id": "f812280a",
   "metadata": {},
   "outputs": [],
   "source": []
  }
 ],
 "metadata": {
  "kernelspec": {
   "display_name": "Python 3",
   "language": "python",
   "name": "python3"
  },
  "language_info": {
   "codemirror_mode": {
    "name": "ipython",
    "version": 3
   },
   "file_extension": ".py",
   "mimetype": "text/x-python",
   "name": "python",
   "nbconvert_exporter": "python",
   "pygments_lexer": "ipython3",
   "version": "3.13.2"
  }
 },
 "nbformat": 4,
 "nbformat_minor": 5
}
