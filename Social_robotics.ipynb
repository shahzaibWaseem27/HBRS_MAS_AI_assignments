{
 "cells": [
  {
   "cell_type": "markdown",
   "id": "b103c5ea",
   "metadata": {
    "deletable": false,
    "editable": false,
    "nbassignment": {
     "type": "header"
    },
    "nbgrader": {
     "cell_type": "markdown",
     "checksum": "770cce8a57eb7f845ae1e122435ff684",
     "grade": false,
     "grade_id": "HeaderA",
     "locked": true,
     "schema_version": 3,
     "solution": false,
     "task": false
    }
   },
   "source": [
    "# Artificial Intelligence for Robotics 01\n",
    "\n",
    "## General Information:\n",
    "Please do not add or delete any cells. Answers belong into the corresponding cells (below the question). If a function is given (either as a signature or a full function), you should not change the name, arguments or return value of the function.\n",
    "\n",
    "If you encounter empty cells underneath the answer that can not be edited, please ignore them, they are for testing purposes.\n",
    "\n",
    "When editing an assignment there can be the case that there are variables in the kernel. To make sure your assignment works, please restart the kernel and run all cells before submitting (e.g. via Kernel -> Restart & Run All).\n",
    "\n",
    "Code cells where you are supposed to give your answer often include the line `raise NotImplementedError`. This makes it easier to automatically grade answers. If you edit the cell please outcomment or delete this line.\n",
    "\n",
    "## Submission:\n",
    "Please submit your notebook via the web interface (in the main view -> Assignments -> Submit). The assignments are **due on Monday at 20:00**.\n",
    "\n",
    "## Group Work:\n",
    "Please enter your UID (your username here) and those of your group partners into the next cell. We apply plagiarism checking, so do not submit others solutions! If an assignment has a copied solution, the task will be graded with 0 points for all people with the same solution.\n",
    "\n",
    "## Questions about the Assignment:\n",
    "If you have questions about the assignment please post them in the LEA forum before the deadline. Don't wait until the last day to post questions!"
   ]
  },
  {
   "cell_type": "markdown",
   "id": "269910cd",
   "metadata": {
    "deletable": false,
    "editable": false,
    "nbassignment": {
     "type": "header"
    },
    "nbgrader": {
     "cell_type": "markdown",
     "checksum": "93d376da99c86b4fabd2542101dc5ec7",
     "grade": false,
     "grade_id": "cell-4a94f4450f12f33c",
     "locked": true,
     "schema_version": 3,
     "solution": false,
     "task": false
    }
   },
   "source": [
    "### Please add the usernames of all your team members in the manner member1, member2 in next cell (example given below)\n",
    "\n",
    "member1 = 'example'\n",
    "\n",
    "member2 = 'example2'\n",
    "\n",
    "#### If you are not working in a group, then please add member2 as none2s"
   ]
  },
  {
   "cell_type": "code",
   "execution_count": 1,
   "id": "72243e7a",
   "metadata": {
    "ExecuteTime": {
     "end_time": "2025-05-04T17:36:00.355924Z",
     "start_time": "2025-05-04T17:36:00.343575Z"
    },
    "deletable": false,
    "nbassignment": {
     "type": "group_info"
    },
    "nbgrader": {
     "cell_type": "code",
     "checksum": "2ef735ca9199180a82193d39df17789b",
     "grade": false,
     "grade_id": "cell-a9c2f4587c671f98",
     "locked": false,
     "schema_version": 3,
     "solution": true,
     "task": false
    }
   },
   "outputs": [],
   "source": [
    "# YOUR CODE HERE\n",
    "member1 = 'aamrit2s'\n",
    "member2 = 'none2s'"
   ]
  },
  {
   "cell_type": "code",
   "execution_count": 2,
   "id": "58d35b9d",
   "metadata": {
    "ExecuteTime": {
     "end_time": "2025-05-04T17:36:00.573278Z",
     "start_time": "2025-05-04T17:36:00.359440Z"
    },
    "deletable": false,
    "editable": false,
    "nbassignment": {
     "type": "header"
    },
    "nbgrader": {
     "cell_type": "code",
     "checksum": "90856a52a0162f78566c398792f29a27",
     "grade": true,
     "grade_id": "cell-e27ced94e387fe18",
     "locked": true,
     "points": 0,
     "schema_version": 3,
     "solution": false,
     "task": false
    }
   },
   "outputs": [
    {
     "name": "stdout",
     "output_type": "stream",
     "text": [
      "All tests passed!\n"
     ]
    }
   ],
   "source": [
    "# Execute this cell to make sure you correctly filled in the usernames of the team members\n",
    "\n",
    "def group_name_test():\n",
    "    for member_id in [member1, member2]:\n",
    "        assert isinstance(member_id, str), \"Please give your member id as a string.\"\n",
    "        assert len(member_id) > 0, \"You need to fill in the member id for both members\"\n",
    "        assert member_id.endswith(\"2s\"), \"The member id should end with 2s (Your JupyterHub username)\"\n",
    "\n",
    "group_name_test() \n",
    "print(\"All tests passed!\")"
   ]
  },
  {
   "cell_type": "markdown",
   "id": "26c9394f",
   "metadata": {
    "deletable": false,
    "editable": false,
    "nbgrader": {
     "cell_type": "markdown",
     "checksum": "4150e60e9202b72dfda6f66119e212fd",
     "grade": false,
     "grade_id": "taskheader_1",
     "locked": true,
     "schema_version": 3,
     "solution": false,
     "task": false
    }
   },
   "source": [
    "# Task 1\n",
    "\n",
    "**[130 Point(s)]**"
   ]
  },
  {
   "cell_type": "markdown",
   "id": "78138a14",
   "metadata": {
    "deletable": false,
    "editable": false,
    "nbgrader": {
     "cell_type": "markdown",
     "checksum": "9e262f7dc35a13fc3caa9d8581f243f4",
     "grade": false,
     "grade_id": "social_robotics_Asocial_robotics_Bsocial_robotics_Csocial_robotics_Dsocial_robotics_Esocial_robotics_F_Header",
     "locked": true,
     "schema_version": 3,
     "solution": false,
     "task": false
    }
   },
   "source": [
    "# Social Robot Navigation and Seating Arrangement\n",
    "\n",
    "## Background\n",
    "You are working with a social robot in a home environment that needs to help coordinate a dinner gathering. The robot must help guide guests to their seats at the dining table while respecting social constraints and optimizing its path. The home layout is provided with furniture, walls, and initial positions of people marked.\n",
    "\n",
    "## Scenario\n",
    "A dinner party is being hosted where 8 guests (P1-P8) are dispersed throughout the house. The robot needs to:\n",
    "1. Determine a valid seating arrangement at the dining table based on social constraints\n",
    "2. Plan paths to guide each guest to their assigned seat\n",
    "\n",
    "### Note\n",
    "__You are not limited to using the provided libraries or function skeletons. Feel free to use any other tools or methods that you believe are better suited for implementing this solution. The only requirement is to use the randomly generated house layout provided with the assignment. Your solution must be built using this specific house layout.__\n"
   ]
  },
  {
   "cell_type": "markdown",
   "id": "c7a54c13",
   "metadata": {
    "deletable": false,
    "editable": false,
    "nbgrader": {
     "cell_type": "markdown",
     "checksum": "7e5f80324c45d1fb05c40d9c883f9188",
     "grade": false,
     "grade_id": "taskheader_1_1",
     "locked": true,
     "schema_version": 3,
     "solution": false,
     "task": false
    }
   },
   "source": [
    "## Task 1.1\n",
    "\n",
    "**[10 Point(s)]**"
   ]
  },
  {
   "cell_type": "markdown",
   "id": "b06c9ca9",
   "metadata": {
    "deletable": false,
    "editable": false,
    "nbgrader": {
     "cell_type": "markdown",
     "checksum": "8faf842e446bef2ecc2b5768bbc5d372",
     "grade": false,
     "grade_id": "social_robotics_A_Description0",
     "locked": true,
     "schema_version": 3,
     "solution": false,
     "task": false
    }
   },
   "source": [
    "### Task1: Read the Home layout (10 points)\n",
    "\n",
    "The task is to develop a pathfinding solution for a robot operating on a grid. The robot of the **dimension(2x2)** must guide several people of the **dimension(1x1)** to their destinations, minimizing the overall cost. The grid's configuration - **obstacles, location of people, furniture placement** is dynamic and changes per execution but the **number of rooms** remain same. The annotations for identifying obstacles and people remains the same throughtout all runs. This grid layout will be available in a file produced by the given function. \n",
    "\n",
    "**You need to implement a function capable of reading and parsing this file.**\n",
    "\n",
    "For the purpose of visualisation the home layout is also visible as a plot below.\n",
    "\n",
    "\n",
    "#### Grid Symbol Legend\n",
    "    - `.` : Empty space/Corridor\n",
    "    - `W` : Wall\n",
    "    - `L` : Living Room  \n",
    "    - `D` : Dining Room\n",
    "    - `K` : Kitchen\n",
    "    - `B` : Bedroom\n",
    "    - `C` : Balcony\n",
    "    - `d` : Door\n",
    "    - `r` : Robot\n",
    "    - `T` : Dining Table\n",
    "    - `H` : Dining Chair\n",
    "    - `S` : Sofa\n",
    "    - `c` : Coffee Table\n",
    "    - `b` : Bed\n",
    "    - `A` : Wardrobe\n",
    "    - `k` : Kitchen Counter\n",
    "    - `F` : Fridge\n",
    "    - `G` : Garden Chair\n",
    "    - `1-N`: Person (where N is the number of people)"
   ]
  },
  {
   "cell_type": "code",
   "execution_count": 3,
   "id": "3241f2f5",
   "metadata": {
    "ExecuteTime": {
     "end_time": "2025-05-04T17:36:02.064141Z",
     "start_time": "2025-05-04T17:36:00.575889Z"
    },
    "deletable": false,
    "editable": false,
    "nbgrader": {
     "cell_type": "code",
     "checksum": "e5ac129dc938bacb9462f7e6d050d9e1",
     "grade": false,
     "grade_id": "social_robotics_A_Description1",
     "locked": true,
     "schema_version": 3,
     "solution": false,
     "task": false
    }
   },
   "outputs": [
    {
     "data": {
      "image/png": "[encoded data removed]",
      "text/plain": [
       "<Figure size 1500x1500 with 1 Axes>"
      ]
     },
     "metadata": {},
     "output_type": "display_data"
    }
   ],
   "source": [
    "from utils.home_layout import generate_house_layout\n",
    "\n",
    "grid, rooms = generate_house_layout(file_name = 'home.txt')"
   ]
  },
  {
   "cell_type": "code",
   "execution_count": 4,
   "id": "8c087363",
   "metadata": {
    "ExecuteTime": {
     "end_time": "2025-05-04T17:36:02.086485Z",
     "start_time": "2025-05-04T17:36:02.071816Z"
    },
    "deletable": false,
    "nbgrader": {
     "cell_type": "code",
     "checksum": "59039f7951dcd43ad5fe29d36e7c567c",
     "grade": true,
     "grade_id": "social_robotics_A",
     "locked": false,
     "points": 10,
     "schema_version": 3,
     "solution": true,
     "task": false
    }
   },
   "outputs": [
    {
     "name": "stdout",
     "output_type": "stream",
     "text": [
      "[['W' 'W' 'W' ... 'W' 'W' 'W']\n",
      " ['W' '.' '.' ... '.' '.' 'W']\n",
      " ['W' '.' '.' ... '.' '.' 'W']\n",
      " ...\n",
      " ['W' '.' '.' ... '.' '.' 'W']\n",
      " ['W' '.' '.' ... '.' '.' 'W']\n",
      " ['W' 'W' 'W' ... 'W' 'W' 'W']]\n"
     ]
    },
    {
     "data": {
      "text/plain": [
       "{'L': (slice(10, 61, None), slice(10, 57, None)),\n",
       " 'D': (slice(10, 61, None), slice(57, 66, None)),\n",
       " 'K': (slice(61, 90, None), slice(57, 66, None)),\n",
       " 'B': (slice(61, 90, None), slice(10, 57, None)),\n",
       " 'C': (slice(10, 61, None), slice(66, 90, None))}"
      ]
     },
     "execution_count": 4,
     "metadata": {},
     "output_type": "execute_result"
    }
   ],
   "source": [
    "import numpy as np\n",
    "\n",
    "with open('home.txt', 'r') as file:\n",
    "    for line in file:\n",
    "        np.append(grid, line.strip().split())\n",
    "\n",
    "obstacles = np.array(['W', 'T', 'H', 'S', 'c', 'b', 'A', 'k', 'F', 'G', '1', '2', '3', '4', '5', '6', '7', '8'])\n",
    "print(grid)\n",
    "rooms"
   ]
  },
  {
   "cell_type": "markdown",
   "id": "48cfd278",
   "metadata": {
    "deletable": false,
    "editable": false,
    "nbgrader": {
     "cell_type": "markdown",
     "checksum": "da5941168a4eb982707f0b2f13d8ed7a",
     "grade": false,
     "grade_id": "taskheader_1_2",
     "locked": true,
     "schema_version": 3,
     "solution": false,
     "task": false
    }
   },
   "source": [
    "## Task 1.2\n",
    "\n",
    "**[20 Point(s)]**"
   ]
  },
  {
   "cell_type": "markdown",
   "id": "48838d43",
   "metadata": {
    "deletable": false,
    "editable": false,
    "nbgrader": {
     "cell_type": "markdown",
     "checksum": "61458a93fc8ef1f0248343fe9d3dbe52",
     "grade": false,
     "grade_id": "social_robotics_B_Description0",
     "locked": true,
     "schema_version": 3,
     "solution": false,
     "task": false
    }
   },
   "source": [
    "## Task 2: Topological Mapping (20 points)\n",
    "\n",
    "The robot needs to navigate through a large house environment to guide people to their seats. Planning paths directly on this grid is inefficient. Your task is to create a topological graph that represents the house layout at a higher level of abstraction, enabling hierarchical path planning.\n",
    "\n",
    "#### Why does it matter? \n",
    "A topological map reduces the problem by first planning through rooms, then detailed paths.This hierarchical approach significantly reduces the search space and planning time.\n",
    "\n",
    "\n",
    "\n",
    "To do so, you can utilise [networkx](https://networkx.org/) for creating graphs.\n",
    "Below is an example showing how to create and visualize a graph with networkx. Feel free to implement your own approach - this is just an illustration and not meant to dictate your solution.\n"
   ]
  },
  {
   "cell_type": "code",
   "execution_count": 5,
   "id": "a3afc2e8",
   "metadata": {
    "ExecuteTime": {
     "end_time": "2025-05-04T17:36:03.423006Z",
     "start_time": "2025-05-04T17:36:02.088979Z"
    },
    "deletable": false,
    "editable": false,
    "nbgrader": {
     "cell_type": "code",
     "checksum": "728896ce6560cb9020f223e6b2b1fd4b",
     "grade": false,
     "grade_id": "social_robotics_B_Description1",
     "locked": true,
     "points": 20,
     "schema_version": 3,
     "solution": false,
     "task": false
    }
   },
   "outputs": [
    {
     "data": {
      "image/png": "[encoded data removed]",
      "text/plain": [
       "<Figure size 800x600 with 1 Axes>"
      ]
     },
     "metadata": {},
     "output_type": "display_data"
    }
   ],
   "source": [
    "import networkx as nx\n",
    "import numpy as np\n",
    "import matplotlib.pyplot as plt\n",
    "\n",
    "\n",
    "# Create a new graph\n",
    "G = nx.Graph()\n",
    "\n",
    "# Add nodes (rooms)\n",
    "G.add_node(\"Living Room\")\n",
    "G.add_node(\"Kitchen\") \n",
    "G.add_node(\"Bedroom\")\n",
    "G.add_node(\"Dining Room\")\n",
    "\n",
    "# Add edges (doors/connections between rooms)\n",
    "G.add_edge(\"Living Room\", \"Kitchen\")\n",
    "G.add_edge(\"Living Room\", \"Dining Room\")\n",
    "G.add_edge(\"Kitchen\", \"Dining Room\") \n",
    "G.add_edge(\"Living Room\", \"Bedroom\")\n",
    "\n",
    "# Draw the graph\n",
    "plt.figure(figsize=(8,6))\n",
    "pos = nx.spring_layout(G)\n",
    "nx.draw(G, pos, with_labels=True, node_color='lightblue', \n",
    "        node_size=1500, font_size=10, font_weight='bold')\n",
    "plt.title(\"House Topology Graph\")\n",
    "plt.show()\n"
   ]
  },
  {
   "cell_type": "code",
   "execution_count": 21,
   "id": "37974e1e",
   "metadata": {
    "ExecuteTime": {
     "end_time": "2025-05-04T18:38:56.120288Z",
     "start_time": "2025-05-04T18:38:55.954116Z"
    },
    "deletable": false,
    "nbgrader": {
     "cell_type": "code",
     "checksum": "736220f6ee9e641ae73aff32dea8645f",
     "grade": true,
     "grade_id": "social_robotics_B",
     "locked": false,
     "points": 20,
     "schema_version": 3,
     "solution": true,
     "task": false
    }
   },
   "outputs": [
    {
     "data": {
      "image/png": "[encoded data removed]",
      "text/plain": [
       "<Figure size 800x600 with 1 Axes>"
      ]
     },
     "metadata": {},
     "output_type": "display_data"
    }
   ],
   "source": [
    "import networkx as nx\n",
    "import numpy as np\n",
    "import matplotlib.pyplot as plt\n",
    "\n",
    "# Defining the dict for ease of plotting\n",
    "room_dict = {\n",
    "    'L': 'Living Room',\n",
    "    'D': 'Dining Room',\n",
    "    'K': 'Kitchen',\n",
    "    'B': 'Bedroom',\n",
    "    'C': 'Balcony'\n",
    "}\n",
    "\n",
    "G = nx.Graph()\n",
    "\n",
    "# Adding rooms as nodes\n",
    "for room in rooms:\n",
    "    G.add_node(room_dict[room])\n",
    "\n",
    "# Mapping each door to the rooms it touches. Need some way of keeping track of \n",
    "# common doors when traversing separate rooms. So Use dict with door location \n",
    "# as key and touching rooms as values\n",
    "door_to_rooms = {}\n",
    "for room, slc in rooms.items():\n",
    "    # Getting the room coordinates\n",
    "    x_start, x_end = slc[0].start, slc[0].stop\n",
    "    y_start, y_end = slc[1].start, slc[1].stop\n",
    "\n",
    "    # The slice sometimes contains only room and no walls\n",
    "    # Check +-1 around the slice to include any potential 'd' cells in the wall\n",
    "    for x in range(x_start - 1, x_end + 1):\n",
    "        for y in range(y_start - 1, y_end + 1):\n",
    "            if grid[x, y] == 'd':\n",
    "                if (x, y) not in door_to_rooms:\n",
    "                    door_to_rooms[(x, y)] = []\n",
    "                door_to_rooms[(x, y)].append(room)\n",
    "\n",
    "for touching_rooms in door_to_rooms.values():\n",
    "    # if check Needed because doors are 3x3 and protrude into rooms, so many of the 'd' cells \n",
    "    # are captured in the traversal of only the room they protrude into\n",
    "    if len(touching_rooms) >= 2:\n",
    "        for i in range(len(touching_rooms)):\n",
    "            for j in range(i+1, len(touching_rooms)):\n",
    "                G.add_edge(room_dict[touching_rooms[i]], room_dict[touching_rooms[j]])\n",
    "\n",
    "# Draw the graph\n",
    "plt.figure(figsize=(8,6))\n",
    "pos = nx.spring_layout(G)\n",
    "nx.draw(G, pos, with_labels=True, node_color='lightblue', \n",
    "        node_size=1500, font_size=10, font_weight='bold')\n",
    "plt.title(\"House Topology Graph\")\n",
    "plt.show()"
   ]
  },
  {
   "cell_type": "markdown",
   "id": "c7c48011",
   "metadata": {
    "deletable": false,
    "editable": false,
    "nbgrader": {
     "cell_type": "markdown",
     "checksum": "74df96edec0b9432d8460face7b0fd68",
     "grade": false,
     "grade_id": "taskheader_1_3",
     "locked": true,
     "schema_version": 3,
     "solution": false,
     "task": false
    }
   },
   "source": [
    "## Task 1.3\n",
    "\n",
    "**[30 Point(s)]**"
   ]
  },
  {
   "cell_type": "markdown",
   "id": "eb5435b0",
   "metadata": {
    "deletable": false,
    "editable": false,
    "nbgrader": {
     "cell_type": "markdown",
     "checksum": "a05f843d81bf041523be37156028ded2",
     "grade": false,
     "grade_id": "social_robotics_C_Description0",
     "locked": true,
     "schema_version": 3,
     "solution": false,
     "task": false
    }
   },
   "source": [
    "## Task 3: Path Planning (30 points)\n",
    "\n",
    "The robot needs to guide multiple people to their assigned seats at the dining table. For each person, the robot must:\n",
    "\n",
    "1. Plan a path from the robot's current position to the person\n",
    "2. Plan a path from the person to their assigned seat\n",
    "3. Implement A* search algorithm for path planning\n",
    "4. Handle obstacles (furniture, walls) and other people as blocked cells\n",
    "\n",
    "To do so, you need to **implement A\\* search with appropriate heuristic function**, make sure to account for walls, furniture and other people as obstacles.\n",
    "\n",
    "**Calculate and print total path cost for the complete guidance task**."
   ]
  },
  {
   "cell_type": "code",
   "execution_count": 7,
   "id": "06369693",
   "metadata": {
    "ExecuteTime": {
     "end_time": "2025-05-04T17:36:04.366570Z",
     "start_time": "2025-05-04T17:36:03.637743Z"
    },
    "deletable": false,
    "nbgrader": {
     "cell_type": "code",
     "checksum": "bf87a2a0244f292fcf47235c7984d46a",
     "grade": true,
     "grade_id": "social_robotics_C",
     "locked": false,
     "points": 30,
     "schema_version": 3,
     "solution": true,
     "task": false
    }
   },
   "outputs": [
    {
     "ename": "NotImplementedError",
     "evalue": "",
     "output_type": "error",
     "traceback": [
      "\u001b[0;31m---------------------------------------------------------------------------\u001b[0m",
      "\u001b[0;31mNotImplementedError\u001b[0m                       Traceback (most recent call last)",
      "Cell \u001b[0;32mIn[7], line 2\u001b[0m\n\u001b[1;32m      1\u001b[0m \u001b[38;5;66;03m# YOUR CODE HERE\u001b[39;00m\n\u001b[0;32m----> 2\u001b[0m \u001b[38;5;28;01mraise\u001b[39;00m \u001b[38;5;167;01mNotImplementedError\u001b[39;00m()\n",
      "\u001b[0;31mNotImplementedError\u001b[0m: "
     ]
    }
   ],
   "source": [
    "# YOUR CODE HERE\n",
    "raise NotImplementedError()"
   ]
  },
  {
   "cell_type": "markdown",
   "id": "94f9237f",
   "metadata": {
    "deletable": false,
    "editable": false,
    "nbgrader": {
     "cell_type": "markdown",
     "checksum": "21de2960215a48e24117795161d5a9fd",
     "grade": false,
     "grade_id": "taskheader_1_4",
     "locked": true,
     "schema_version": 3,
     "solution": false,
     "task": false
    }
   },
   "source": [
    "## Task 1.4\n",
    "\n",
    "**[40 Point(s)]**"
   ]
  },
  {
   "cell_type": "markdown",
   "id": "beb50ad9",
   "metadata": {
    "deletable": false,
    "editable": false,
    "nbgrader": {
     "cell_type": "markdown",
     "checksum": "784ecd6fd47b903bcafa0a5cae3f5c79",
     "grade": false,
     "grade_id": "social_robotics_D_Description0",
     "locked": true,
     "schema_version": 3,
     "solution": false,
     "task": false
    }
   },
   "source": [
    "## Task 4: Seating Arrangement Constraint Satisfaction (30 points)\n",
    "\n",
    "The robot needs to determine valid seating arrangements for 8 people around the dining table while respecting social constraints. Each arrangement must satisfy basic constraints (one person per seat) and specific social preferences of individuals.\n",
    "\n",
    "\n",
    "\n",
    "### Social Constraints:\n",
    "1. Language Groups:\n",
    "   - P1, P2, P3 speak English only\n",
    "   - P4, P5 speak Spanish only\n",
    "   - P6, P7, P8 are bilingual\n",
    "   - At least one bilingual person must sit between language groups\n",
    "   \n",
    "2. Conversation Preferences:\n",
    "   - P1 wants to discuss business with P6 and needs to sit together\n",
    "   - P3 and P5 are in a heated argument so must be far apart at the table\n",
    "   - P2 and P8 are close friends so want to sit together\n",
    "   - P4 and P7 are sharing a presentation so need to sit adjacent\n",
    "\n",
    "\n",
    "**Implement a constraint satisfaction solver to find valid seating arrangements, please use backtracking search to find all possible valid arrangements.**"
   ]
  },
  {
   "cell_type": "code",
   "execution_count": 20,
   "id": "f64d8b60",
   "metadata": {
    "ExecuteTime": {
     "end_time": "2025-05-06T21:55:30.393666Z",
     "start_time": "2025-05-06T21:55:30.324137Z"
    },
    "deletable": false,
    "nbgrader": {
     "cell_type": "code",
     "checksum": "923648f9f2ce27913c74409ae6f32100",
     "grade": true,
     "grade_id": "social_robotics_D",
     "locked": false,
     "points": 40,
     "schema_version": 3,
     "solution": true,
     "task": false
    }
   },
   "outputs": [
    {
     "name": "stdout",
     "output_type": "stream",
     "text": [
      "Total valid seating arrangements found: 160\n",
      "\n",
      "Arrangement 1: ['P1 (Seat 1)', 'P2 (Seat 2)', 'P8 (Seat 3)', 'P3 (Seat 4)', 'P7 (Seat 5)', 'P4 (Seat 6)', 'P5 (Seat 7)', 'P6 (Seat 8)']\n",
      "Arrangement 2: ['P1 (Seat 1)', 'P2 (Seat 2)', 'P8 (Seat 3)', 'P5 (Seat 4)', 'P4 (Seat 5)', 'P7 (Seat 6)', 'P3 (Seat 7)', 'P6 (Seat 8)']\n",
      "Arrangement 3: ['P1 (Seat 1)', 'P3 (Seat 2)', 'P2 (Seat 3)', 'P8 (Seat 4)', 'P4 (Seat 5)', 'P7 (Seat 6)', 'P5 (Seat 7)', 'P6 (Seat 8)']\n",
      "Arrangement 4: ['P1 (Seat 1)', 'P3 (Seat 2)', 'P2 (Seat 3)', 'P8 (Seat 4)', 'P5 (Seat 5)', 'P4 (Seat 6)', 'P7 (Seat 7)', 'P6 (Seat 8)']\n",
      "Arrangement 5: ['P1 (Seat 1)', 'P3 (Seat 2)', 'P2 (Seat 3)', 'P8 (Seat 4)', 'P7 (Seat 5)', 'P4 (Seat 6)', 'P5 (Seat 7)', 'P6 (Seat 8)']\n",
      "Arrangement 6: ['P1 (Seat 1)', 'P3 (Seat 2)', 'P2 (Seat 3)', 'P8 (Seat 4)', 'P5 (Seat 5)', 'P7 (Seat 6)', 'P4 (Seat 7)', 'P6 (Seat 8)']\n",
      "Arrangement 7: ['P1 (Seat 1)', 'P8 (Seat 2)', 'P2 (Seat 3)', 'P3 (Seat 4)', 'P7 (Seat 5)', 'P4 (Seat 6)', 'P5 (Seat 7)', 'P6 (Seat 8)']\n",
      "Arrangement 8: ['P1 (Seat 1)', 'P6 (Seat 2)', 'P2 (Seat 3)', 'P8 (Seat 4)', 'P5 (Seat 5)', 'P4 (Seat 6)', 'P7 (Seat 7)', 'P3 (Seat 8)']\n",
      "Arrangement 9: ['P1 (Seat 1)', 'P3 (Seat 2)', 'P8 (Seat 3)', 'P2 (Seat 4)', 'P7 (Seat 5)', 'P4 (Seat 6)', 'P5 (Seat 7)', 'P6 (Seat 8)']\n",
      "Arrangement 10: ['P1 (Seat 1)', 'P6 (Seat 2)', 'P3 (Seat 3)', 'P2 (Seat 4)', 'P8 (Seat 5)', 'P5 (Seat 6)', 'P4 (Seat 7)', 'P7 (Seat 8)']\n",
      "Arrangement 11: ['P1 (Seat 1)', 'P7 (Seat 2)', 'P4 (Seat 3)', 'P5 (Seat 4)', 'P8 (Seat 5)', 'P2 (Seat 6)', 'P3 (Seat 7)', 'P6 (Seat 8)']\n",
      "Arrangement 12: ['P1 (Seat 1)', 'P6 (Seat 2)', 'P5 (Seat 3)', 'P4 (Seat 4)', 'P7 (Seat 5)', 'P2 (Seat 6)', 'P8 (Seat 7)', 'P3 (Seat 8)']\n",
      "Arrangement 13: ['P1 (Seat 1)', 'P3 (Seat 2)', 'P7 (Seat 3)', 'P4 (Seat 4)', 'P5 (Seat 5)', 'P8 (Seat 6)', 'P2 (Seat 7)', 'P6 (Seat 8)']\n",
      "Arrangement 14: ['P1 (Seat 1)', 'P6 (Seat 2)', 'P5 (Seat 3)', 'P4 (Seat 4)', 'P7 (Seat 5)', 'P3 (Seat 6)', 'P2 (Seat 7)', 'P8 (Seat 8)']\n",
      "Arrangement 15: ['P1 (Seat 1)', 'P6 (Seat 2)', 'P4 (Seat 3)', 'P7 (Seat 4)', 'P5 (Seat 5)', 'P8 (Seat 6)', 'P2 (Seat 7)', 'P3 (Seat 8)']\n",
      "Arrangement 16: ['P1 (Seat 1)', 'P6 (Seat 2)', 'P5 (Seat 3)', 'P4 (Seat 4)', 'P7 (Seat 5)', 'P8 (Seat 6)', 'P2 (Seat 7)', 'P3 (Seat 8)']\n",
      "Arrangement 17: ['P1 (Seat 1)', 'P6 (Seat 2)', 'P7 (Seat 3)', 'P4 (Seat 4)', 'P5 (Seat 5)', 'P8 (Seat 6)', 'P2 (Seat 7)', 'P3 (Seat 8)']\n",
      "Arrangement 18: ['P1 (Seat 1)', 'P6 (Seat 2)', 'P5 (Seat 3)', 'P7 (Seat 4)', 'P4 (Seat 5)', 'P8 (Seat 6)', 'P2 (Seat 7)', 'P3 (Seat 8)']\n",
      "Arrangement 19: ['P1 (Seat 1)', 'P6 (Seat 2)', 'P3 (Seat 3)', 'P7 (Seat 4)', 'P4 (Seat 5)', 'P5 (Seat 6)', 'P8 (Seat 7)', 'P2 (Seat 8)']\n",
      "Arrangement 20: ['P1 (Seat 1)', 'P6 (Seat 2)', 'P5 (Seat 3)', 'P4 (Seat 4)', 'P7 (Seat 5)', 'P3 (Seat 6)', 'P8 (Seat 7)', 'P2 (Seat 8)']\n",
      "Arrangement 21: ['P2 (Seat 1)', 'P1 (Seat 2)', 'P6 (Seat 3)', 'P3 (Seat 4)', 'P7 (Seat 5)', 'P4 (Seat 6)', 'P5 (Seat 7)', 'P8 (Seat 8)']\n",
      "Arrangement 22: ['P2 (Seat 1)', 'P1 (Seat 2)', 'P6 (Seat 3)', 'P5 (Seat 4)', 'P4 (Seat 5)', 'P7 (Seat 6)', 'P3 (Seat 7)', 'P8 (Seat 8)']\n",
      "Arrangement 23: ['P6 (Seat 1)', 'P1 (Seat 2)', 'P2 (Seat 3)', 'P8 (Seat 4)', 'P3 (Seat 5)', 'P7 (Seat 6)', 'P4 (Seat 7)', 'P5 (Seat 8)']\n",
      "Arrangement 24: ['P6 (Seat 1)', 'P1 (Seat 2)', 'P2 (Seat 3)', 'P8 (Seat 4)', 'P5 (Seat 5)', 'P4 (Seat 6)', 'P7 (Seat 7)', 'P3 (Seat 8)']\n",
      "Arrangement 25: ['P3 (Seat 1)', 'P1 (Seat 2)', 'P6 (Seat 3)', 'P2 (Seat 4)', 'P8 (Seat 5)', 'P5 (Seat 6)', 'P4 (Seat 7)', 'P7 (Seat 8)']\n",
      "Arrangement 26: ['P6 (Seat 1)', 'P1 (Seat 2)', 'P3 (Seat 3)', 'P2 (Seat 4)', 'P8 (Seat 5)', 'P4 (Seat 6)', 'P7 (Seat 7)', 'P5 (Seat 8)']\n",
      "Arrangement 27: ['P6 (Seat 1)', 'P1 (Seat 2)', 'P3 (Seat 3)', 'P2 (Seat 4)', 'P8 (Seat 5)', 'P5 (Seat 6)', 'P4 (Seat 7)', 'P7 (Seat 8)']\n",
      "Arrangement 28: ['P6 (Seat 1)', 'P1 (Seat 2)', 'P3 (Seat 3)', 'P2 (Seat 4)', 'P8 (Seat 5)', 'P7 (Seat 6)', 'P4 (Seat 7)', 'P5 (Seat 8)']\n",
      "Arrangement 29: ['P6 (Seat 1)', 'P1 (Seat 2)', 'P3 (Seat 3)', 'P2 (Seat 4)', 'P8 (Seat 5)', 'P5 (Seat 6)', 'P7 (Seat 7)', 'P4 (Seat 8)']\n",
      "Arrangement 30: ['P6 (Seat 1)', 'P1 (Seat 2)', 'P8 (Seat 3)', 'P2 (Seat 4)', 'P3 (Seat 5)', 'P7 (Seat 6)', 'P4 (Seat 7)', 'P5 (Seat 8)']\n",
      "Arrangement 31: ['P6 (Seat 1)', 'P1 (Seat 2)', 'P3 (Seat 3)', 'P8 (Seat 4)', 'P2 (Seat 5)', 'P7 (Seat 6)', 'P4 (Seat 7)', 'P5 (Seat 8)']\n",
      "Arrangement 32: ['P7 (Seat 1)', 'P1 (Seat 2)', 'P6 (Seat 3)', 'P3 (Seat 4)', 'P2 (Seat 5)', 'P8 (Seat 6)', 'P5 (Seat 7)', 'P4 (Seat 8)']\n",
      "Arrangement 33: ['P3 (Seat 1)', 'P1 (Seat 2)', 'P6 (Seat 3)', 'P5 (Seat 4)', 'P4 (Seat 5)', 'P7 (Seat 6)', 'P2 (Seat 7)', 'P8 (Seat 8)']\n",
      "Arrangement 34: ['P6 (Seat 1)', 'P1 (Seat 2)', 'P7 (Seat 3)', 'P4 (Seat 4)', 'P5 (Seat 5)', 'P8 (Seat 6)', 'P2 (Seat 7)', 'P3 (Seat 8)']\n",
      "Arrangement 35: ['P3 (Seat 1)', 'P1 (Seat 2)', 'P6 (Seat 3)', 'P4 (Seat 4)', 'P7 (Seat 5)', 'P5 (Seat 6)', 'P8 (Seat 7)', 'P2 (Seat 8)']\n",
      "Arrangement 36: ['P3 (Seat 1)', 'P1 (Seat 2)', 'P6 (Seat 3)', 'P5 (Seat 4)', 'P4 (Seat 5)', 'P7 (Seat 6)', 'P8 (Seat 7)', 'P2 (Seat 8)']\n",
      "Arrangement 37: ['P3 (Seat 1)', 'P1 (Seat 2)', 'P6 (Seat 3)', 'P7 (Seat 4)', 'P4 (Seat 5)', 'P5 (Seat 6)', 'P8 (Seat 7)', 'P2 (Seat 8)']\n",
      "Arrangement 38: ['P3 (Seat 1)', 'P1 (Seat 2)', 'P6 (Seat 3)', 'P5 (Seat 4)', 'P7 (Seat 5)', 'P4 (Seat 6)', 'P8 (Seat 7)', 'P2 (Seat 8)']\n",
      "Arrangement 39: ['P6 (Seat 1)', 'P1 (Seat 2)', 'P3 (Seat 3)', 'P7 (Seat 4)', 'P4 (Seat 5)', 'P5 (Seat 6)', 'P8 (Seat 7)', 'P2 (Seat 8)']\n",
      "Arrangement 40: ['P8 (Seat 1)', 'P1 (Seat 2)', 'P6 (Seat 3)', 'P5 (Seat 4)', 'P4 (Seat 5)', 'P7 (Seat 6)', 'P3 (Seat 7)', 'P2 (Seat 8)']\n",
      "Arrangement 41: ['P2 (Seat 1)', 'P3 (Seat 2)', 'P1 (Seat 3)', 'P6 (Seat 4)', 'P4 (Seat 5)', 'P7 (Seat 6)', 'P5 (Seat 7)', 'P8 (Seat 8)']\n",
      "Arrangement 42: ['P2 (Seat 1)', 'P3 (Seat 2)', 'P1 (Seat 3)', 'P6 (Seat 4)', 'P5 (Seat 5)', 'P4 (Seat 6)', 'P7 (Seat 7)', 'P8 (Seat 8)']\n",
      "Arrangement 43: ['P2 (Seat 1)', 'P3 (Seat 2)', 'P1 (Seat 3)', 'P6 (Seat 4)', 'P7 (Seat 5)', 'P4 (Seat 6)', 'P5 (Seat 7)', 'P8 (Seat 8)']\n",
      "Arrangement 44: ['P2 (Seat 1)', 'P3 (Seat 2)', 'P1 (Seat 3)', 'P6 (Seat 4)', 'P5 (Seat 5)', 'P7 (Seat 6)', 'P4 (Seat 7)', 'P8 (Seat 8)']\n",
      "Arrangement 45: ['P2 (Seat 1)', 'P6 (Seat 2)', 'P1 (Seat 3)', 'P3 (Seat 4)', 'P7 (Seat 5)', 'P4 (Seat 6)', 'P5 (Seat 7)', 'P8 (Seat 8)']\n",
      "Arrangement 46: ['P2 (Seat 1)', 'P8 (Seat 2)', 'P1 (Seat 3)', 'P6 (Seat 4)', 'P5 (Seat 5)', 'P4 (Seat 6)', 'P7 (Seat 7)', 'P3 (Seat 8)']\n",
      "Arrangement 47: ['P8 (Seat 1)', 'P2 (Seat 2)', 'P1 (Seat 3)', 'P6 (Seat 4)', 'P3 (Seat 5)', 'P7 (Seat 6)', 'P4 (Seat 7)', 'P5 (Seat 8)']\n",
      "Arrangement 48: ['P8 (Seat 1)', 'P2 (Seat 2)', 'P1 (Seat 3)', 'P6 (Seat 4)', 'P5 (Seat 5)', 'P4 (Seat 6)', 'P7 (Seat 7)', 'P3 (Seat 8)']\n",
      "Arrangement 49: ['P3 (Seat 1)', 'P6 (Seat 2)', 'P1 (Seat 3)', 'P2 (Seat 4)', 'P8 (Seat 5)', 'P5 (Seat 6)', 'P4 (Seat 7)', 'P7 (Seat 8)']\n",
      "Arrangement 50: ['P5 (Seat 1)', 'P6 (Seat 2)', 'P1 (Seat 3)', 'P2 (Seat 4)', 'P8 (Seat 5)', 'P3 (Seat 6)', 'P7 (Seat 7)', 'P4 (Seat 8)']\n",
      "Arrangement 51: ['P7 (Seat 1)', 'P3 (Seat 2)', 'P1 (Seat 3)', 'P6 (Seat 4)', 'P2 (Seat 5)', 'P8 (Seat 6)', 'P5 (Seat 7)', 'P4 (Seat 8)']\n",
      "Arrangement 52: ['P4 (Seat 1)', 'P6 (Seat 2)', 'P1 (Seat 3)', 'P3 (Seat 4)', 'P2 (Seat 5)', 'P8 (Seat 6)', 'P5 (Seat 7)', 'P7 (Seat 8)']\n",
      "Arrangement 53: ['P5 (Seat 1)', 'P6 (Seat 2)', 'P1 (Seat 3)', 'P3 (Seat 4)', 'P2 (Seat 5)', 'P8 (Seat 6)', 'P4 (Seat 7)', 'P7 (Seat 8)']\n",
      "Arrangement 54: ['P5 (Seat 1)', 'P6 (Seat 2)', 'P1 (Seat 3)', 'P3 (Seat 4)', 'P2 (Seat 5)', 'P8 (Seat 6)', 'P7 (Seat 7)', 'P4 (Seat 8)']\n",
      "Arrangement 55: ['P7 (Seat 1)', 'P6 (Seat 2)', 'P1 (Seat 3)', 'P3 (Seat 4)', 'P2 (Seat 5)', 'P8 (Seat 6)', 'P5 (Seat 7)', 'P4 (Seat 8)']\n",
      "Arrangement 56: ['P5 (Seat 1)', 'P6 (Seat 2)', 'P1 (Seat 3)', 'P8 (Seat 4)', 'P2 (Seat 5)', 'P3 (Seat 6)', 'P7 (Seat 7)', 'P4 (Seat 8)']\n",
      "Arrangement 57: ['P5 (Seat 1)', 'P6 (Seat 2)', 'P1 (Seat 3)', 'P3 (Seat 4)', 'P8 (Seat 5)', 'P2 (Seat 6)', 'P7 (Seat 7)', 'P4 (Seat 8)']\n",
      "Arrangement 58: ['P4 (Seat 1)', 'P7 (Seat 2)', 'P1 (Seat 3)', 'P6 (Seat 4)', 'P3 (Seat 5)', 'P2 (Seat 6)', 'P8 (Seat 7)', 'P5 (Seat 8)']\n",
      "Arrangement 59: ['P3 (Seat 1)', 'P6 (Seat 2)', 'P1 (Seat 3)', 'P7 (Seat 4)', 'P4 (Seat 5)', 'P5 (Seat 6)', 'P8 (Seat 7)', 'P2 (Seat 8)']\n",
      "Arrangement 60: ['P8 (Seat 1)', 'P3 (Seat 2)', 'P1 (Seat 3)', 'P6 (Seat 4)', 'P5 (Seat 5)', 'P4 (Seat 6)', 'P7 (Seat 7)', 'P2 (Seat 8)']\n",
      "Arrangement 61: ['P2 (Seat 1)', 'P3 (Seat 2)', 'P6 (Seat 3)', 'P1 (Seat 4)', 'P7 (Seat 5)', 'P4 (Seat 6)', 'P5 (Seat 7)', 'P8 (Seat 8)']\n",
      "Arrangement 62: ['P2 (Seat 1)', 'P8 (Seat 2)', 'P3 (Seat 3)', 'P1 (Seat 4)', 'P6 (Seat 5)', 'P5 (Seat 6)', 'P4 (Seat 7)', 'P7 (Seat 8)']\n",
      "Arrangement 63: ['P3 (Seat 1)', 'P2 (Seat 2)', 'P8 (Seat 3)', 'P1 (Seat 4)', 'P6 (Seat 5)', 'P5 (Seat 6)', 'P4 (Seat 7)', 'P7 (Seat 8)']\n",
      "Arrangement 64: ['P8 (Seat 1)', 'P2 (Seat 2)', 'P3 (Seat 3)', 'P1 (Seat 4)', 'P6 (Seat 5)', 'P4 (Seat 6)', 'P7 (Seat 7)', 'P5 (Seat 8)']\n",
      "Arrangement 65: ['P8 (Seat 1)', 'P2 (Seat 2)', 'P3 (Seat 3)', 'P1 (Seat 4)', 'P6 (Seat 5)', 'P5 (Seat 6)', 'P4 (Seat 7)', 'P7 (Seat 8)']\n",
      "Arrangement 66: ['P8 (Seat 1)', 'P2 (Seat 2)', 'P3 (Seat 3)', 'P1 (Seat 4)', 'P6 (Seat 5)', 'P7 (Seat 6)', 'P4 (Seat 7)', 'P5 (Seat 8)']\n",
      "Arrangement 67: ['P8 (Seat 1)', 'P2 (Seat 2)', 'P3 (Seat 3)', 'P1 (Seat 4)', 'P6 (Seat 5)', 'P5 (Seat 6)', 'P7 (Seat 7)', 'P4 (Seat 8)']\n",
      "Arrangement 68: ['P8 (Seat 1)', 'P2 (Seat 2)', 'P6 (Seat 3)', 'P1 (Seat 4)', 'P3 (Seat 5)', 'P7 (Seat 6)', 'P4 (Seat 7)', 'P5 (Seat 8)']\n",
      "Arrangement 69: ['P3 (Seat 1)', 'P8 (Seat 2)', 'P2 (Seat 3)', 'P1 (Seat 4)', 'P6 (Seat 5)', 'P5 (Seat 6)', 'P4 (Seat 7)', 'P7 (Seat 8)']\n",
      "Arrangement 70: ['P5 (Seat 1)', 'P8 (Seat 2)', 'P2 (Seat 3)', 'P1 (Seat 4)', 'P6 (Seat 5)', 'P3 (Seat 6)', 'P7 (Seat 7)', 'P4 (Seat 8)']\n",
      "Arrangement 71: ['P7 (Seat 1)', 'P3 (Seat 2)', 'P6 (Seat 3)', 'P1 (Seat 4)', 'P2 (Seat 5)', 'P8 (Seat 6)', 'P5 (Seat 7)', 'P4 (Seat 8)']\n",
      "Arrangement 72: ['P4 (Seat 1)', 'P5 (Seat 2)', 'P6 (Seat 3)', 'P1 (Seat 4)', 'P2 (Seat 5)', 'P8 (Seat 6)', 'P3 (Seat 7)', 'P7 (Seat 8)']\n",
      "Arrangement 73: ['P4 (Seat 1)', 'P7 (Seat 2)', 'P3 (Seat 3)', 'P1 (Seat 4)', 'P6 (Seat 5)', 'P2 (Seat 6)', 'P8 (Seat 7)', 'P5 (Seat 8)']\n",
      "Arrangement 74: ['P4 (Seat 1)', 'P5 (Seat 2)', 'P6 (Seat 3)', 'P1 (Seat 4)', 'P3 (Seat 5)', 'P2 (Seat 6)', 'P8 (Seat 7)', 'P7 (Seat 8)']\n",
      "Arrangement 75: ['P4 (Seat 1)', 'P7 (Seat 2)', 'P6 (Seat 3)', 'P1 (Seat 4)', 'P3 (Seat 5)', 'P2 (Seat 6)', 'P8 (Seat 7)', 'P5 (Seat 8)']\n",
      "Arrangement 76: ['P7 (Seat 1)', 'P4 (Seat 2)', 'P6 (Seat 3)', 'P1 (Seat 4)', 'P3 (Seat 5)', 'P2 (Seat 6)', 'P8 (Seat 7)', 'P5 (Seat 8)']\n",
      "Arrangement 77: ['P7 (Seat 1)', 'P5 (Seat 2)', 'P6 (Seat 3)', 'P1 (Seat 4)', 'P3 (Seat 5)', 'P2 (Seat 6)', 'P8 (Seat 7)', 'P4 (Seat 8)']\n",
      "Arrangement 78: ['P4 (Seat 1)', 'P5 (Seat 2)', 'P6 (Seat 3)', 'P1 (Seat 4)', 'P8 (Seat 5)', 'P2 (Seat 6)', 'P3 (Seat 7)', 'P7 (Seat 8)']\n",
      "Arrangement 79: ['P4 (Seat 1)', 'P5 (Seat 2)', 'P6 (Seat 3)', 'P1 (Seat 4)', 'P3 (Seat 5)', 'P8 (Seat 6)', 'P2 (Seat 7)', 'P7 (Seat 8)']\n",
      "Arrangement 80: ['P5 (Seat 1)', 'P4 (Seat 2)', 'P7 (Seat 3)', 'P1 (Seat 4)', 'P6 (Seat 5)', 'P3 (Seat 6)', 'P2 (Seat 7)', 'P8 (Seat 8)']\n",
      "Arrangement 81: ['P8 (Seat 1)', 'P2 (Seat 2)', 'P3 (Seat 3)', 'P6 (Seat 4)', 'P1 (Seat 5)', 'P7 (Seat 6)', 'P4 (Seat 7)', 'P5 (Seat 8)']\n",
      "Arrangement 82: ['P7 (Seat 1)', 'P2 (Seat 2)', 'P8 (Seat 3)', 'P3 (Seat 4)', 'P1 (Seat 5)', 'P6 (Seat 6)', 'P5 (Seat 7)', 'P4 (Seat 8)']\n",
      "Arrangement 83: ['P7 (Seat 1)', 'P3 (Seat 2)', 'P2 (Seat 3)', 'P8 (Seat 4)', 'P1 (Seat 5)', 'P6 (Seat 6)', 'P5 (Seat 7)', 'P4 (Seat 8)']\n",
      "Arrangement 84: ['P4 (Seat 1)', 'P8 (Seat 2)', 'P2 (Seat 3)', 'P3 (Seat 4)', 'P1 (Seat 5)', 'P6 (Seat 6)', 'P5 (Seat 7)', 'P7 (Seat 8)']\n",
      "Arrangement 85: ['P5 (Seat 1)', 'P8 (Seat 2)', 'P2 (Seat 3)', 'P3 (Seat 4)', 'P1 (Seat 5)', 'P6 (Seat 6)', 'P4 (Seat 7)', 'P7 (Seat 8)']\n",
      "Arrangement 86: ['P5 (Seat 1)', 'P8 (Seat 2)', 'P2 (Seat 3)', 'P3 (Seat 4)', 'P1 (Seat 5)', 'P6 (Seat 6)', 'P7 (Seat 7)', 'P4 (Seat 8)']\n",
      "Arrangement 87: ['P7 (Seat 1)', 'P8 (Seat 2)', 'P2 (Seat 3)', 'P3 (Seat 4)', 'P1 (Seat 5)', 'P6 (Seat 6)', 'P5 (Seat 7)', 'P4 (Seat 8)']\n",
      "Arrangement 88: ['P5 (Seat 1)', 'P8 (Seat 2)', 'P2 (Seat 3)', 'P6 (Seat 4)', 'P1 (Seat 5)', 'P3 (Seat 6)', 'P7 (Seat 7)', 'P4 (Seat 8)']\n",
      "Arrangement 89: ['P7 (Seat 1)', 'P3 (Seat 2)', 'P8 (Seat 3)', 'P2 (Seat 4)', 'P1 (Seat 5)', 'P6 (Seat 6)', 'P5 (Seat 7)', 'P4 (Seat 8)']\n",
      "Arrangement 90: ['P4 (Seat 1)', 'P5 (Seat 2)', 'P8 (Seat 3)', 'P2 (Seat 4)', 'P1 (Seat 5)', 'P6 (Seat 6)', 'P3 (Seat 7)', 'P7 (Seat 8)']\n",
      "Arrangement 91: ['P4 (Seat 1)', 'P7 (Seat 2)', 'P3 (Seat 3)', 'P6 (Seat 4)', 'P1 (Seat 5)', 'P2 (Seat 6)', 'P8 (Seat 7)', 'P5 (Seat 8)']\n",
      "Arrangement 92: ['P7 (Seat 1)', 'P4 (Seat 2)', 'P5 (Seat 3)', 'P6 (Seat 4)', 'P1 (Seat 5)', 'P2 (Seat 6)', 'P8 (Seat 7)', 'P3 (Seat 8)']\n",
      "Arrangement 93: ['P5 (Seat 1)', 'P4 (Seat 2)', 'P7 (Seat 3)', 'P3 (Seat 4)', 'P1 (Seat 5)', 'P6 (Seat 6)', 'P2 (Seat 7)', 'P8 (Seat 8)']\n",
      "Arrangement 94: ['P4 (Seat 1)', 'P7 (Seat 2)', 'P5 (Seat 3)', 'P6 (Seat 4)', 'P1 (Seat 5)', 'P3 (Seat 6)', 'P2 (Seat 7)', 'P8 (Seat 8)']\n",
      "Arrangement 95: ['P5 (Seat 1)', 'P4 (Seat 2)', 'P7 (Seat 3)', 'P6 (Seat 4)', 'P1 (Seat 5)', 'P3 (Seat 6)', 'P2 (Seat 7)', 'P8 (Seat 8)']\n",
      "Arrangement 96: ['P7 (Seat 1)', 'P4 (Seat 2)', 'P5 (Seat 3)', 'P6 (Seat 4)', 'P1 (Seat 5)', 'P3 (Seat 6)', 'P2 (Seat 7)', 'P8 (Seat 8)']\n",
      "Arrangement 97: ['P5 (Seat 1)', 'P7 (Seat 2)', 'P4 (Seat 3)', 'P6 (Seat 4)', 'P1 (Seat 5)', 'P3 (Seat 6)', 'P2 (Seat 7)', 'P8 (Seat 8)']\n",
      "Arrangement 98: ['P7 (Seat 1)', 'P4 (Seat 2)', 'P5 (Seat 3)', 'P6 (Seat 4)', 'P1 (Seat 5)', 'P8 (Seat 6)', 'P2 (Seat 7)', 'P3 (Seat 8)']\n",
      "Arrangement 99: ['P7 (Seat 1)', 'P4 (Seat 2)', 'P5 (Seat 3)', 'P6 (Seat 4)', 'P1 (Seat 5)', 'P3 (Seat 6)', 'P8 (Seat 7)', 'P2 (Seat 8)']\n",
      "Arrangement 100: ['P8 (Seat 1)', 'P5 (Seat 2)', 'P4 (Seat 3)', 'P7 (Seat 4)', 'P1 (Seat 5)', 'P6 (Seat 6)', 'P3 (Seat 7)', 'P2 (Seat 8)']\n",
      "Arrangement 101: ['P2 (Seat 1)', 'P7 (Seat 2)', 'P4 (Seat 3)', 'P5 (Seat 4)', 'P6 (Seat 5)', 'P1 (Seat 6)', 'P3 (Seat 7)', 'P8 (Seat 8)']\n",
      "Arrangement 102: ['P2 (Seat 1)', 'P8 (Seat 2)', 'P5 (Seat 3)', 'P4 (Seat 4)', 'P7 (Seat 5)', 'P1 (Seat 6)', 'P6 (Seat 7)', 'P3 (Seat 8)']\n",
      "Arrangement 103: ['P5 (Seat 1)', 'P8 (Seat 2)', 'P2 (Seat 3)', 'P3 (Seat 4)', 'P6 (Seat 5)', 'P1 (Seat 6)', 'P7 (Seat 7)', 'P4 (Seat 8)']\n",
      "Arrangement 104: ['P4 (Seat 1)', 'P7 (Seat 2)', 'P2 (Seat 3)', 'P8 (Seat 4)', 'P3 (Seat 5)', 'P1 (Seat 6)', 'P6 (Seat 7)', 'P5 (Seat 8)']\n",
      "Arrangement 105: ['P4 (Seat 1)', 'P7 (Seat 2)', 'P3 (Seat 3)', 'P2 (Seat 4)', 'P8 (Seat 5)', 'P1 (Seat 6)', 'P6 (Seat 7)', 'P5 (Seat 8)']\n",
      "Arrangement 106: ['P4 (Seat 1)', 'P5 (Seat 2)', 'P8 (Seat 3)', 'P2 (Seat 4)', 'P3 (Seat 5)', 'P1 (Seat 6)', 'P6 (Seat 7)', 'P7 (Seat 8)']\n",
      "Arrangement 107: ['P4 (Seat 1)', 'P7 (Seat 2)', 'P8 (Seat 3)', 'P2 (Seat 4)', 'P3 (Seat 5)', 'P1 (Seat 6)', 'P6 (Seat 7)', 'P5 (Seat 8)']\n",
      "Arrangement 108: ['P7 (Seat 1)', 'P4 (Seat 2)', 'P8 (Seat 3)', 'P2 (Seat 4)', 'P3 (Seat 5)', 'P1 (Seat 6)', 'P6 (Seat 7)', 'P5 (Seat 8)']\n",
      "Arrangement 109: ['P7 (Seat 1)', 'P5 (Seat 2)', 'P8 (Seat 3)', 'P2 (Seat 4)', 'P3 (Seat 5)', 'P1 (Seat 6)', 'P6 (Seat 7)', 'P4 (Seat 8)']\n",
      "Arrangement 110: ['P4 (Seat 1)', 'P5 (Seat 2)', 'P8 (Seat 3)', 'P2 (Seat 4)', 'P6 (Seat 5)', 'P1 (Seat 6)', 'P3 (Seat 7)', 'P7 (Seat 8)']\n",
      "Arrangement 111: ['P4 (Seat 1)', 'P7 (Seat 2)', 'P3 (Seat 3)', 'P8 (Seat 4)', 'P2 (Seat 5)', 'P1 (Seat 6)', 'P6 (Seat 7)', 'P5 (Seat 8)']\n",
      "Arrangement 112: ['P7 (Seat 1)', 'P4 (Seat 2)', 'P5 (Seat 3)', 'P8 (Seat 4)', 'P2 (Seat 5)', 'P1 (Seat 6)', 'P6 (Seat 7)', 'P3 (Seat 8)']\n",
      "Arrangement 113: ['P3 (Seat 1)', 'P7 (Seat 2)', 'P4 (Seat 3)', 'P5 (Seat 4)', 'P6 (Seat 5)', 'P1 (Seat 6)', 'P2 (Seat 7)', 'P8 (Seat 8)']\n",
      "Arrangement 114: ['P5 (Seat 1)', 'P4 (Seat 2)', 'P7 (Seat 3)', 'P3 (Seat 4)', 'P6 (Seat 5)', 'P1 (Seat 6)', 'P2 (Seat 7)', 'P8 (Seat 8)']\n",
      "Arrangement 115: ['P3 (Seat 1)', 'P7 (Seat 2)', 'P4 (Seat 3)', 'P5 (Seat 4)', 'P6 (Seat 5)', 'P1 (Seat 6)', 'P8 (Seat 7)', 'P2 (Seat 8)']\n",
      "Arrangement 116: ['P8 (Seat 1)', 'P5 (Seat 2)', 'P4 (Seat 3)', 'P7 (Seat 4)', 'P3 (Seat 5)', 'P1 (Seat 6)', 'P6 (Seat 7)', 'P2 (Seat 8)']\n",
      "Arrangement 117: ['P8 (Seat 1)', 'P4 (Seat 2)', 'P7 (Seat 3)', 'P5 (Seat 4)', 'P6 (Seat 5)', 'P1 (Seat 6)', 'P3 (Seat 7)', 'P2 (Seat 8)']\n",
      "Arrangement 118: ['P8 (Seat 1)', 'P5 (Seat 2)', 'P4 (Seat 3)', 'P7 (Seat 4)', 'P6 (Seat 5)', 'P1 (Seat 6)', 'P3 (Seat 7)', 'P2 (Seat 8)']\n",
      "Arrangement 119: ['P8 (Seat 1)', 'P7 (Seat 2)', 'P4 (Seat 3)', 'P5 (Seat 4)', 'P6 (Seat 5)', 'P1 (Seat 6)', 'P3 (Seat 7)', 'P2 (Seat 8)']\n",
      "Arrangement 120: ['P8 (Seat 1)', 'P5 (Seat 2)', 'P7 (Seat 3)', 'P4 (Seat 4)', 'P6 (Seat 5)', 'P1 (Seat 6)', 'P3 (Seat 7)', 'P2 (Seat 8)']\n",
      "Arrangement 121: ['P2 (Seat 1)', 'P3 (Seat 2)', 'P7 (Seat 3)', 'P4 (Seat 4)', 'P5 (Seat 5)', 'P6 (Seat 6)', 'P1 (Seat 7)', 'P8 (Seat 8)']\n",
      "Arrangement 122: ['P2 (Seat 1)', 'P8 (Seat 2)', 'P5 (Seat 3)', 'P4 (Seat 4)', 'P7 (Seat 5)', 'P3 (Seat 6)', 'P1 (Seat 7)', 'P6 (Seat 8)']\n",
      "Arrangement 123: ['P2 (Seat 1)', 'P8 (Seat 2)', 'P4 (Seat 3)', 'P7 (Seat 4)', 'P5 (Seat 5)', 'P6 (Seat 6)', 'P1 (Seat 7)', 'P3 (Seat 8)']\n",
      "Arrangement 124: ['P2 (Seat 1)', 'P8 (Seat 2)', 'P5 (Seat 3)', 'P4 (Seat 4)', 'P7 (Seat 5)', 'P6 (Seat 6)', 'P1 (Seat 7)', 'P3 (Seat 8)']\n",
      "Arrangement 125: ['P2 (Seat 1)', 'P8 (Seat 2)', 'P7 (Seat 3)', 'P4 (Seat 4)', 'P5 (Seat 5)', 'P6 (Seat 6)', 'P1 (Seat 7)', 'P3 (Seat 8)']\n",
      "Arrangement 126: ['P2 (Seat 1)', 'P8 (Seat 2)', 'P5 (Seat 3)', 'P7 (Seat 4)', 'P4 (Seat 5)', 'P6 (Seat 6)', 'P1 (Seat 7)', 'P3 (Seat 8)']\n",
      "Arrangement 127: ['P3 (Seat 1)', 'P2 (Seat 2)', 'P8 (Seat 3)', 'P5 (Seat 4)', 'P4 (Seat 5)', 'P7 (Seat 6)', 'P1 (Seat 7)', 'P6 (Seat 8)']\n",
      "Arrangement 128: ['P8 (Seat 1)', 'P2 (Seat 2)', 'P7 (Seat 3)', 'P4 (Seat 4)', 'P5 (Seat 5)', 'P6 (Seat 6)', 'P1 (Seat 7)', 'P3 (Seat 8)']\n",
      "Arrangement 129: ['P4 (Seat 1)', 'P5 (Seat 2)', 'P8 (Seat 3)', 'P2 (Seat 4)', 'P3 (Seat 5)', 'P6 (Seat 6)', 'P1 (Seat 7)', 'P7 (Seat 8)']\n",
      "Arrangement 130: ['P5 (Seat 1)', 'P4 (Seat 2)', 'P7 (Seat 3)', 'P2 (Seat 4)', 'P8 (Seat 5)', 'P3 (Seat 6)', 'P1 (Seat 7)', 'P6 (Seat 8)']\n",
      "Arrangement 131: ['P5 (Seat 1)', 'P4 (Seat 2)', 'P7 (Seat 3)', 'P3 (Seat 4)', 'P2 (Seat 5)', 'P8 (Seat 6)', 'P1 (Seat 7)', 'P6 (Seat 8)']\n",
      "Arrangement 132: ['P4 (Seat 1)', 'P7 (Seat 2)', 'P5 (Seat 3)', 'P8 (Seat 4)', 'P2 (Seat 5)', 'P3 (Seat 6)', 'P1 (Seat 7)', 'P6 (Seat 8)']\n",
      "Arrangement 133: ['P5 (Seat 1)', 'P4 (Seat 2)', 'P7 (Seat 3)', 'P8 (Seat 4)', 'P2 (Seat 5)', 'P3 (Seat 6)', 'P1 (Seat 7)', 'P6 (Seat 8)']\n",
      "Arrangement 134: ['P7 (Seat 1)', 'P4 (Seat 2)', 'P5 (Seat 3)', 'P8 (Seat 4)', 'P2 (Seat 5)', 'P3 (Seat 6)', 'P1 (Seat 7)', 'P6 (Seat 8)']\n",
      "Arrangement 135: ['P5 (Seat 1)', 'P7 (Seat 2)', 'P4 (Seat 3)', 'P8 (Seat 4)', 'P2 (Seat 5)', 'P3 (Seat 6)', 'P1 (Seat 7)', 'P6 (Seat 8)']\n",
      "Arrangement 136: ['P7 (Seat 1)', 'P4 (Seat 2)', 'P5 (Seat 3)', 'P8 (Seat 4)', 'P2 (Seat 5)', 'P6 (Seat 6)', 'P1 (Seat 7)', 'P3 (Seat 8)']\n",
      "Arrangement 137: ['P3 (Seat 1)', 'P7 (Seat 2)', 'P4 (Seat 3)', 'P5 (Seat 4)', 'P8 (Seat 5)', 'P2 (Seat 6)', 'P1 (Seat 7)', 'P6 (Seat 8)']\n",
      "Arrangement 138: ['P5 (Seat 1)', 'P4 (Seat 2)', 'P7 (Seat 3)', 'P3 (Seat 4)', 'P8 (Seat 5)', 'P2 (Seat 6)', 'P1 (Seat 7)', 'P6 (Seat 8)']\n",
      "Arrangement 139: ['P8 (Seat 1)', 'P3 (Seat 2)', 'P7 (Seat 3)', 'P4 (Seat 4)', 'P5 (Seat 5)', 'P6 (Seat 6)', 'P1 (Seat 7)', 'P2 (Seat 8)']\n",
      "Arrangement 140: ['P8 (Seat 1)', 'P5 (Seat 2)', 'P4 (Seat 3)', 'P7 (Seat 4)', 'P3 (Seat 5)', 'P6 (Seat 6)', 'P1 (Seat 7)', 'P2 (Seat 8)']\n",
      "Arrangement 141: ['P2 (Seat 1)', 'P8 (Seat 2)', 'P3 (Seat 3)', 'P7 (Seat 4)', 'P4 (Seat 5)', 'P5 (Seat 6)', 'P6 (Seat 7)', 'P1 (Seat 8)']\n",
      "Arrangement 142: ['P2 (Seat 1)', 'P8 (Seat 2)', 'P5 (Seat 3)', 'P4 (Seat 4)', 'P7 (Seat 5)', 'P3 (Seat 6)', 'P6 (Seat 7)', 'P1 (Seat 8)']\n",
      "Arrangement 143: ['P3 (Seat 1)', 'P2 (Seat 2)', 'P8 (Seat 3)', 'P4 (Seat 4)', 'P7 (Seat 5)', 'P5 (Seat 6)', 'P6 (Seat 7)', 'P1 (Seat 8)']\n",
      "Arrangement 144: ['P3 (Seat 1)', 'P2 (Seat 2)', 'P8 (Seat 3)', 'P5 (Seat 4)', 'P4 (Seat 5)', 'P7 (Seat 6)', 'P6 (Seat 7)', 'P1 (Seat 8)']\n",
      "Arrangement 145: ['P3 (Seat 1)', 'P2 (Seat 2)', 'P8 (Seat 3)', 'P7 (Seat 4)', 'P4 (Seat 5)', 'P5 (Seat 6)', 'P6 (Seat 7)', 'P1 (Seat 8)']\n",
      "Arrangement 146: ['P3 (Seat 1)', 'P2 (Seat 2)', 'P8 (Seat 3)', 'P5 (Seat 4)', 'P7 (Seat 5)', 'P4 (Seat 6)', 'P6 (Seat 7)', 'P1 (Seat 8)']\n",
      "Arrangement 147: ['P8 (Seat 1)', 'P2 (Seat 2)', 'P3 (Seat 3)', 'P7 (Seat 4)', 'P4 (Seat 5)', 'P5 (Seat 6)', 'P6 (Seat 7)', 'P1 (Seat 8)']\n",
      "Arrangement 148: ['P6 (Seat 1)', 'P2 (Seat 2)', 'P8 (Seat 3)', 'P5 (Seat 4)', 'P4 (Seat 5)', 'P7 (Seat 6)', 'P3 (Seat 7)', 'P1 (Seat 8)']\n",
      "Arrangement 149: ['P3 (Seat 1)', 'P8 (Seat 2)', 'P2 (Seat 3)', 'P7 (Seat 4)', 'P4 (Seat 5)', 'P5 (Seat 6)', 'P6 (Seat 7)', 'P1 (Seat 8)']\n",
      "Arrangement 150: ['P6 (Seat 1)', 'P3 (Seat 2)', 'P2 (Seat 3)', 'P8 (Seat 4)', 'P5 (Seat 5)', 'P4 (Seat 6)', 'P7 (Seat 7)', 'P1 (Seat 8)']\n",
      "Arrangement 151: ['P7 (Seat 1)', 'P4 (Seat 2)', 'P5 (Seat 3)', 'P8 (Seat 4)', 'P2 (Seat 5)', 'P3 (Seat 6)', 'P6 (Seat 7)', 'P1 (Seat 8)']\n",
      "Arrangement 152: ['P6 (Seat 1)', 'P5 (Seat 2)', 'P4 (Seat 3)', 'P7 (Seat 4)', 'P2 (Seat 5)', 'P8 (Seat 6)', 'P3 (Seat 7)', 'P1 (Seat 8)']\n",
      "Arrangement 153: ['P3 (Seat 1)', 'P7 (Seat 2)', 'P4 (Seat 3)', 'P5 (Seat 4)', 'P8 (Seat 5)', 'P2 (Seat 6)', 'P6 (Seat 7)', 'P1 (Seat 8)']\n",
      "Arrangement 154: ['P6 (Seat 1)', 'P5 (Seat 2)', 'P4 (Seat 3)', 'P7 (Seat 4)', 'P3 (Seat 5)', 'P2 (Seat 6)', 'P8 (Seat 7)', 'P1 (Seat 8)']\n",
      "Arrangement 155: ['P6 (Seat 1)', 'P4 (Seat 2)', 'P7 (Seat 3)', 'P5 (Seat 4)', 'P8 (Seat 5)', 'P2 (Seat 6)', 'P3 (Seat 7)', 'P1 (Seat 8)']\n",
      "Arrangement 156: ['P6 (Seat 1)', 'P5 (Seat 2)', 'P4 (Seat 3)', 'P7 (Seat 4)', 'P8 (Seat 5)', 'P2 (Seat 6)', 'P3 (Seat 7)', 'P1 (Seat 8)']\n",
      "Arrangement 157: ['P6 (Seat 1)', 'P7 (Seat 2)', 'P4 (Seat 3)', 'P5 (Seat 4)', 'P8 (Seat 5)', 'P2 (Seat 6)', 'P3 (Seat 7)', 'P1 (Seat 8)']\n",
      "Arrangement 158: ['P6 (Seat 1)', 'P5 (Seat 2)', 'P7 (Seat 3)', 'P4 (Seat 4)', 'P8 (Seat 5)', 'P2 (Seat 6)', 'P3 (Seat 7)', 'P1 (Seat 8)']\n",
      "Arrangement 159: ['P6 (Seat 1)', 'P3 (Seat 2)', 'P7 (Seat 3)', 'P4 (Seat 4)', 'P5 (Seat 5)', 'P8 (Seat 6)', 'P2 (Seat 7)', 'P1 (Seat 8)']\n",
      "Arrangement 160: ['P6 (Seat 1)', 'P5 (Seat 2)', 'P4 (Seat 3)', 'P7 (Seat 4)', 'P3 (Seat 5)', 'P8 (Seat 6)', 'P2 (Seat 7)', 'P1 (Seat 8)']\n"
     ]
    }
   ],
   "source": [
    "# YOUR CODE HERE\n",
    "#assignment = {} # {Person: Seat}\n",
    "\n",
    "# function BACKTRACKING-SEARCH(csp) returns a solution or failure\n",
    "#     return BACKTRACK(csp, { })\n",
    "# function BACKTRACK(csp, assignment) returns a solution or failure\n",
    "#     if assignment is complete then return assignment\n",
    "#     var ← SELECT-UNASSIGNED-VARIABLE(csp, assignment)\n",
    "#     for each value in ORDER-DOMAIN-VALUES(csp, var, assignment) do\n",
    "#         if value is consistent with assignment then\n",
    "#             add {var = value} to assignment\n",
    "#             inferences ← I NFERENCE(csp, var, assignment)\n",
    "#             if inferences != failure then\n",
    "#                 add inferences to csp\n",
    "#                 result ← BACKTRACK(csp, assignment)\n",
    "#                 if result != failure then return result\n",
    "#                 remove inferences from csp\n",
    "#             remove {var = value} from assignment\n",
    "#     return failure\n",
    "\n",
    "def is_complete(csp, assignment):\n",
    "    return len(assignment) == len(csp[\"people\"])\n",
    "\n",
    "def adjacent(s1, s2):\n",
    "    return abs(s1 - s2) == 1 or abs(s1 - s2) == 7  # circular table\n",
    "\n",
    "def far_apart(s1, s2):\n",
    "    '''\n",
    "    By far apart, I assume it to mean that the persons are atleast 2 seats apart.\n",
    "    It could also be taken to mean that the persons are diametrically opposite, but that is a \n",
    "    constraint which gives 0 valid arrangements when taken along with the other social constraints.\n",
    "    '''\n",
    "    # Check for adjacency or separation by only one person\n",
    "    if adjacent(s1, s2) or abs(s1 - s2) == 2 or abs(s1 - s2) == 6:\n",
    "        return False\n",
    "    return True\n",
    "\n",
    "def is_consistent(var, value, assignment):\n",
    "    if value in assignment.values():  # Ensure one person per seat\n",
    "        return False\n",
    "    temp_assign = assignment.copy()\n",
    "    temp_assign[var] = value\n",
    "    return all_constraints_satisfied(temp_assign)\n",
    "\n",
    "def all_constraints_satisfied(assignment):\n",
    "    if 'P1' in assignment and 'P6' in assignment:\n",
    "        if not adjacent(assignment['P1'], assignment['P6']):\n",
    "            return False\n",
    "        \n",
    "    if 'P2' in assignment and 'P8' in assignment:\n",
    "        if not adjacent(assignment['P2'], assignment['P8']):\n",
    "            return False\n",
    "    \n",
    "    if 'P4' in assignment and 'P7' in assignment:\n",
    "        if not adjacent(assignment['P4'], assignment['P7']):\n",
    "            return False\n",
    "        \n",
    "    if 'P3' in assignment and 'P5' in assignment:\n",
    "        if not far_apart(assignment['P3'], assignment['P5']):\n",
    "            return False\n",
    "\n",
    "    # Language group separation\n",
    "    english_only = {'P1', 'P2', 'P3'}\n",
    "    spanish_only = {'P4', 'P5'}\n",
    "    bilingual = {'P6', 'P7', 'P8'}\n",
    "    num_seats = len(csp[\"people\"])\n",
    "\n",
    "    for p_en in english_only:\n",
    "        for p_sp in spanish_only:\n",
    "            if p_en not in assignment or p_sp not in assignment:\n",
    "                continue\n",
    "            if adjacent(assignment[p_en], assignment[p_sp]):\n",
    "                return False\n",
    "    return True\n",
    "\n",
    "def SELECT_UNASSIGNED_VARIABLE(csp, assignment):\n",
    "    unassigned = [p for p in csp[\"people\"] if p not in assignment]\n",
    "    return min(unassigned, key=lambda person: len(csp[\"domains\"][person]))\n",
    "\n",
    "def ORDER_DOMAIN_VALUES(csp, var, assignment):\n",
    "    return csp[\"domains\"][var]\n",
    "\n",
    "def INFERENCE(csp, value, assignment):\n",
    "    inferences = {}\n",
    "    for p in csp[\"people\"]:\n",
    "        if p not in assignment and value in csp[\"domains\"][p]:\n",
    "            # Remove the assigned value from others’ domains (no two people on the same seat)\n",
    "            csp[\"domains\"][p].remove(value)\n",
    "            if not csp[\"domains\"][p]:  # Domain wipe-out = failure\n",
    "                return None\n",
    "            inferences[p] = value\n",
    "    return inferences\n",
    "\n",
    "def BACKTRACK(csp, assignment, solutions):\n",
    "    if is_complete(csp, assignment):\n",
    "        if all_constraints_satisfied(assignment):\n",
    "            solutions.append(assignment.copy())\n",
    "        return\n",
    "\n",
    "    var = SELECT_UNASSIGNED_VARIABLE(csp, assignment)\n",
    "    for value in ORDER_DOMAIN_VALUES(csp, var, assignment):\n",
    "        if is_consistent(var, value, assignment):\n",
    "            assignment[var] = value\n",
    "            # Copy domains before making inferences\n",
    "            saved_domains = {person: list(csp[\"domains\"][person]) for person in csp[\"people\"]}\n",
    "            inferences = INFERENCE(csp, value, assignment)\n",
    "\n",
    "            if inferences is not None:\n",
    "                BACKTRACK(csp, assignment, solutions)\n",
    "\n",
    "            # Restore domains and assignment\n",
    "            csp[\"domains\"] = saved_domains\n",
    "            del assignment[var]\n",
    "\n",
    "def backtracking_search_all(csp):\n",
    "    solutions = []\n",
    "    BACKTRACK(csp, {}, solutions)\n",
    "    return solutions\n",
    "\n",
    "csp = {\n",
    "    \"people\": ['P1','P2','P3','P4','P5','P6','P7','P8'],\n",
    "    \"domains\": {p: list(range(1, 9)) for p in ['P1','P2','P3','P4','P5','P6','P7','P8']}\n",
    "}\n",
    "\n",
    "solutions = backtracking_search_all(csp)\n",
    "\n",
    "print(f\"Total valid seating arrangements found: {len(solutions)}\\n\")\n",
    "for i, sol in enumerate(solutions, 1):\n",
    "    ordered = sorted(sol.items(), key=lambda x: x[1])\n",
    "    seating_order = [f\"{p} (Seat {s})\" for p, s in ordered]\n",
    "    print(f\"Arrangement {i}: {seating_order}\")"
   ]
  },
  {
   "cell_type": "code",
   "execution_count": null,
   "id": "ab467435",
   "metadata": {},
   "outputs": [],
   "source": []
  },
  {
   "cell_type": "markdown",
   "id": "2aef822d",
   "metadata": {
    "deletable": false,
    "editable": false,
    "nbgrader": {
     "cell_type": "markdown",
     "checksum": "c6947b247e7502f87a3b94b552831cb7",
     "grade": false,
     "grade_id": "taskheader_1_5",
     "locked": true,
     "schema_version": 3,
     "solution": false,
     "task": false
    }
   },
   "source": [
    "## Task 1.5\n",
    "\n",
    "**[20 Point(s)]**"
   ]
  },
  {
   "cell_type": "markdown",
   "id": "a63922c9",
   "metadata": {
    "deletable": false,
    "editable": false,
    "nbgrader": {
     "cell_type": "markdown",
     "checksum": "4c55b43d195c012d409a1a3e7658cfbc",
     "grade": false,
     "grade_id": "social_robotics_E_Description0",
     "locked": true,
     "schema_version": 3,
     "solution": false,
     "task": false
    }
   },
   "source": [
    "## Task 5: Integration (10 points)\n",
    "\n",
    "The final task is to integrate all the previous components into a complete solution that demonstrates the robot's ability to efficiently guide guests to their seats while respecting both physical constraints of the environment and social seating preferences.\n",
    "\n",
    "**Implement the following:**\n",
    "- Apply the seating arrangement solution from the constraint satisfaction solver to find the valid seating arrangement\n",
    "- Then use the topological map to find the local map for each guest\n",
    "- Then use the A* search algorithm on the local map to find the path from the robot to each guest and from each guest to their assigned seat\n",
    "- Show the total cost of the path taken by the robot and display the seating arrangment."
   ]
  },
  {
   "cell_type": "code",
   "execution_count": null,
   "id": "5965b786",
   "metadata": {
    "ExecuteTime": {
     "end_time": "2025-05-04T17:36:04.370561Z",
     "start_time": "2025-05-04T17:36:04.370543Z"
    },
    "deletable": false,
    "nbgrader": {
     "cell_type": "code",
     "checksum": "ca7df31f0d3be92920b92d688d03d8d0",
     "grade": true,
     "grade_id": "social_robotics_E",
     "locked": false,
     "points": 20,
     "schema_version": 3,
     "solution": true,
     "task": false
    }
   },
   "outputs": [],
   "source": [
    "# YOUR CODE HERE\n",
    "raise NotImplementedError()"
   ]
  },
  {
   "cell_type": "markdown",
   "id": "2929bea0",
   "metadata": {
    "deletable": false,
    "editable": false,
    "nbgrader": {
     "cell_type": "markdown",
     "checksum": "27807a790959636238d841d16ac32a55",
     "grade": false,
     "grade_id": "taskheader_1_6",
     "locked": true,
     "schema_version": 3,
     "solution": false,
     "task": false
    }
   },
   "source": [
    "## Task 1.6\n",
    "\n",
    "**[10 Point(s)]**"
   ]
  },
  {
   "cell_type": "markdown",
   "id": "44fbc0e2",
   "metadata": {
    "deletable": false,
    "editable": false,
    "nbgrader": {
     "cell_type": "markdown",
     "checksum": "263f1029f9f1b1197ca2109b7c1a8978",
     "grade": false,
     "grade_id": "social_robotics_F_Description0",
     "locked": true,
     "schema_version": 3,
     "solution": false,
     "task": false
    }
   },
   "source": [
    "## Task 6: Visualisation: Optional (10 points)\n",
    "\n",
    "Let's visualise the path for each person using the provided animation code. Ensure that the path format matches the requirements of the function. You can either use the given animation code or create your own visualization to demonstrate the robot's path."
   ]
  },
  {
   "cell_type": "code",
   "execution_count": null,
   "id": "1129c5f3",
   "metadata": {
    "ExecuteTime": {
     "end_time": "2025-05-04T17:36:04.372301Z",
     "start_time": "2025-05-04T17:36:04.372262Z"
    },
    "deletable": false,
    "nbgrader": {
     "cell_type": "code",
     "checksum": "ada0a8b3d211b77c865833fc7c303f17",
     "grade": true,
     "grade_id": "social_robotics_F",
     "locked": false,
     "points": 10,
     "schema_version": 3,
     "solution": true,
     "task": false
    }
   },
   "outputs": [],
   "source": [
    "from utils.robot_path_vis import animate_robot_movement\n",
    "from IPython.display import HTML\n",
    "\n",
    "def demonstrate_robot_guidance(grid, rooms,path):\n",
    "    \"\"\"\n",
    "    Demonstrates robot guidance by creating an animation of the robot's path.\n",
    "\n",
    "    Args:\n",
    "        grid: 2D array representing the house layout.\n",
    "        rooms: Dictionary containing room areas.\n",
    "        path: List of (x, y) tuples\n",
    "\n",
    "    The path should be a list of (x, y) tuples representing the coordinates\n",
    "    the robot will follow. The path should start at the robot's initial position,\n",
    "    include the position of the person to guide, and end at the destination.\n",
    "\n",
    "    \"\"\"\n",
    "    \n",
    "    # Placeholder for A* algorithm call to generate path\n",
    "    \n",
    "    # YOUR CODE HERE\n",
    "    raise NotImplementedError()\n",
    "    \n",
    "    # Create animation\n",
    "    anim = animate_robot_movement(grid, rooms, path, person_following=True)\n",
    "    return anim\n",
    "\n",
    "# Run demonstration\n",
    "\n",
    "anim = demonstrate_robot_guidance(grid, rooms)\n",
    "HTML(anim.to_jshtml())\n",
    "\n"
   ]
  }
 ],
 "metadata": {
  "kernelspec": {
   "display_name": "Python 3 (ipykernel)",
   "language": "python",
   "name": "python3"
  },
  "language_info": {
   "codemirror_mode": {
    "name": "ipython",
    "version": 3
   },
   "file_extension": ".py",
   "mimetype": "text/x-python",
   "name": "python",
   "nbconvert_exporter": "python",
   "pygments_lexer": "ipython3",
   "version": "3.11.4"
  }
 },
 "nbformat": 4,
 "nbformat_minor": 5
}
